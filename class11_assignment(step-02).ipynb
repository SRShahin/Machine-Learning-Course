{
 "cells": [
  {
   "cell_type": "code",
   "execution_count": 1,
   "id": "cedd4554",
   "metadata": {},
   "outputs": [],
   "source": [
    "import pandas as pd\n",
    "from sklearn.model_selection import train_test_split"
   ]
  },
  {
   "cell_type": "code",
   "execution_count": 2,
   "id": "5f6f305c",
   "metadata": {},
   "outputs": [
    {
     "data": {
      "text/html": [
       "<div>\n",
       "<style scoped>\n",
       "    .dataframe tbody tr th:only-of-type {\n",
       "        vertical-align: middle;\n",
       "    }\n",
       "\n",
       "    .dataframe tbody tr th {\n",
       "        vertical-align: top;\n",
       "    }\n",
       "\n",
       "    .dataframe thead th {\n",
       "        text-align: right;\n",
       "    }\n",
       "</style>\n",
       "<table border=\"1\" class=\"dataframe\">\n",
       "  <thead>\n",
       "    <tr style=\"text-align: right;\">\n",
       "      <th></th>\n",
       "      <th>Gender</th>\n",
       "      <th>Height</th>\n",
       "      <th>Weight</th>\n",
       "    </tr>\n",
       "  </thead>\n",
       "  <tbody>\n",
       "    <tr>\n",
       "      <th>0</th>\n",
       "      <td>Male</td>\n",
       "      <td>73.847017</td>\n",
       "      <td>241.893563</td>\n",
       "    </tr>\n",
       "    <tr>\n",
       "      <th>1</th>\n",
       "      <td>Male</td>\n",
       "      <td>68.781904</td>\n",
       "      <td>162.310473</td>\n",
       "    </tr>\n",
       "    <tr>\n",
       "      <th>2</th>\n",
       "      <td>Male</td>\n",
       "      <td>74.110105</td>\n",
       "      <td>212.740856</td>\n",
       "    </tr>\n",
       "    <tr>\n",
       "      <th>3</th>\n",
       "      <td>Male</td>\n",
       "      <td>71.730978</td>\n",
       "      <td>220.042470</td>\n",
       "    </tr>\n",
       "    <tr>\n",
       "      <th>4</th>\n",
       "      <td>Male</td>\n",
       "      <td>69.881796</td>\n",
       "      <td>206.349801</td>\n",
       "    </tr>\n",
       "  </tbody>\n",
       "</table>\n",
       "</div>"
      ],
      "text/plain": [
       "  Gender     Height      Weight\n",
       "0   Male  73.847017  241.893563\n",
       "1   Male  68.781904  162.310473\n",
       "2   Male  74.110105  212.740856\n",
       "3   Male  71.730978  220.042470\n",
       "4   Male  69.881796  206.349801"
      ]
     },
     "execution_count": 2,
     "metadata": {},
     "output_type": "execute_result"
    }
   ],
   "source": [
    "df = pd.read_csv('weight-height.csv')\n",
    "df.head()"
   ]
  },
  {
   "cell_type": "code",
   "execution_count": 3,
   "id": "041eae56",
   "metadata": {},
   "outputs": [],
   "source": [
    "df.Gender = df.Gender.replace(['Female', 'Male'], [0, 1])"
   ]
  },
  {
   "cell_type": "code",
   "execution_count": 4,
   "id": "3f4efc93",
   "metadata": {},
   "outputs": [
    {
     "data": {
      "text/html": [
       "<div>\n",
       "<style scoped>\n",
       "    .dataframe tbody tr th:only-of-type {\n",
       "        vertical-align: middle;\n",
       "    }\n",
       "\n",
       "    .dataframe tbody tr th {\n",
       "        vertical-align: top;\n",
       "    }\n",
       "\n",
       "    .dataframe thead th {\n",
       "        text-align: right;\n",
       "    }\n",
       "</style>\n",
       "<table border=\"1\" class=\"dataframe\">\n",
       "  <thead>\n",
       "    <tr style=\"text-align: right;\">\n",
       "      <th></th>\n",
       "      <th>Gender</th>\n",
       "      <th>Height</th>\n",
       "      <th>Weight</th>\n",
       "    </tr>\n",
       "  </thead>\n",
       "  <tbody>\n",
       "    <tr>\n",
       "      <th>0</th>\n",
       "      <td>1</td>\n",
       "      <td>73.847017</td>\n",
       "      <td>241.893563</td>\n",
       "    </tr>\n",
       "    <tr>\n",
       "      <th>1</th>\n",
       "      <td>1</td>\n",
       "      <td>68.781904</td>\n",
       "      <td>162.310473</td>\n",
       "    </tr>\n",
       "    <tr>\n",
       "      <th>2</th>\n",
       "      <td>1</td>\n",
       "      <td>74.110105</td>\n",
       "      <td>212.740856</td>\n",
       "    </tr>\n",
       "    <tr>\n",
       "      <th>3</th>\n",
       "      <td>1</td>\n",
       "      <td>71.730978</td>\n",
       "      <td>220.042470</td>\n",
       "    </tr>\n",
       "    <tr>\n",
       "      <th>4</th>\n",
       "      <td>1</td>\n",
       "      <td>69.881796</td>\n",
       "      <td>206.349801</td>\n",
       "    </tr>\n",
       "    <tr>\n",
       "      <th>5</th>\n",
       "      <td>1</td>\n",
       "      <td>67.253016</td>\n",
       "      <td>152.212156</td>\n",
       "    </tr>\n",
       "    <tr>\n",
       "      <th>6</th>\n",
       "      <td>1</td>\n",
       "      <td>68.785081</td>\n",
       "      <td>183.927889</td>\n",
       "    </tr>\n",
       "    <tr>\n",
       "      <th>7</th>\n",
       "      <td>1</td>\n",
       "      <td>68.348516</td>\n",
       "      <td>167.971111</td>\n",
       "    </tr>\n",
       "    <tr>\n",
       "      <th>8</th>\n",
       "      <td>1</td>\n",
       "      <td>67.018950</td>\n",
       "      <td>175.929440</td>\n",
       "    </tr>\n",
       "    <tr>\n",
       "      <th>9</th>\n",
       "      <td>1</td>\n",
       "      <td>63.456494</td>\n",
       "      <td>156.399676</td>\n",
       "    </tr>\n",
       "  </tbody>\n",
       "</table>\n",
       "</div>"
      ],
      "text/plain": [
       "   Gender     Height      Weight\n",
       "0       1  73.847017  241.893563\n",
       "1       1  68.781904  162.310473\n",
       "2       1  74.110105  212.740856\n",
       "3       1  71.730978  220.042470\n",
       "4       1  69.881796  206.349801\n",
       "5       1  67.253016  152.212156\n",
       "6       1  68.785081  183.927889\n",
       "7       1  68.348516  167.971111\n",
       "8       1  67.018950  175.929440\n",
       "9       1  63.456494  156.399676"
      ]
     },
     "execution_count": 4,
     "metadata": {},
     "output_type": "execute_result"
    }
   ],
   "source": [
    "df.head(10)"
   ]
  },
  {
   "cell_type": "code",
   "execution_count": 5,
   "id": "118a01ad",
   "metadata": {},
   "outputs": [],
   "source": [
    "X = df.drop('Gender', axis=1)\n",
    "y = df['Gender']"
   ]
  },
  {
   "cell_type": "code",
   "execution_count": 6,
   "id": "430cfd52",
   "metadata": {},
   "outputs": [],
   "source": [
    "X_train, X_test, y_train, y_test = train_test_split(X, y, test_size = 0.3, random_state = 1)"
   ]
  },
  {
   "cell_type": "code",
   "execution_count": 7,
   "id": "66ba808a",
   "metadata": {},
   "outputs": [
    {
     "data": {
      "text/html": [
       "<div>\n",
       "<style scoped>\n",
       "    .dataframe tbody tr th:only-of-type {\n",
       "        vertical-align: middle;\n",
       "    }\n",
       "\n",
       "    .dataframe tbody tr th {\n",
       "        vertical-align: top;\n",
       "    }\n",
       "\n",
       "    .dataframe thead th {\n",
       "        text-align: right;\n",
       "    }\n",
       "</style>\n",
       "<table border=\"1\" class=\"dataframe\">\n",
       "  <thead>\n",
       "    <tr style=\"text-align: right;\">\n",
       "      <th></th>\n",
       "      <th>Height</th>\n",
       "      <th>Weight</th>\n",
       "    </tr>\n",
       "  </thead>\n",
       "  <tbody>\n",
       "    <tr>\n",
       "      <th>1277</th>\n",
       "      <td>72.385301</td>\n",
       "      <td>189.165592</td>\n",
       "    </tr>\n",
       "    <tr>\n",
       "      <th>5361</th>\n",
       "      <td>60.960147</td>\n",
       "      <td>124.876796</td>\n",
       "    </tr>\n",
       "    <tr>\n",
       "      <th>5728</th>\n",
       "      <td>69.119292</td>\n",
       "      <td>168.864403</td>\n",
       "    </tr>\n",
       "    <tr>\n",
       "      <th>4276</th>\n",
       "      <td>68.271050</td>\n",
       "      <td>172.941248</td>\n",
       "    </tr>\n",
       "    <tr>\n",
       "      <th>3112</th>\n",
       "      <td>64.991405</td>\n",
       "      <td>144.551044</td>\n",
       "    </tr>\n",
       "  </tbody>\n",
       "</table>\n",
       "</div>"
      ],
      "text/plain": [
       "         Height      Weight\n",
       "1277  72.385301  189.165592\n",
       "5361  60.960147  124.876796\n",
       "5728  69.119292  168.864403\n",
       "4276  68.271050  172.941248\n",
       "3112  64.991405  144.551044"
      ]
     },
     "execution_count": 7,
     "metadata": {},
     "output_type": "execute_result"
    }
   ],
   "source": [
    "X_train.head()"
   ]
  },
  {
   "cell_type": "code",
   "execution_count": 8,
   "id": "cbf53c12",
   "metadata": {},
   "outputs": [
    {
     "data": {
      "text/plain": [
       "1277    1\n",
       "5361    0\n",
       "5728    0\n",
       "4276    1\n",
       "3112    1\n",
       "Name: Gender, dtype: int64"
      ]
     },
     "execution_count": 8,
     "metadata": {},
     "output_type": "execute_result"
    }
   ],
   "source": [
    "y_train.head()"
   ]
  },
  {
   "cell_type": "markdown",
   "id": "13ecee91",
   "metadata": {},
   "source": [
    "# KNN Classifier"
   ]
  },
  {
   "cell_type": "code",
   "execution_count": 9,
   "id": "71ca3805",
   "metadata": {},
   "outputs": [],
   "source": [
    "from sklearn.neighbors import KNeighborsClassifier\n",
    "import matplotlib.pyplot as plt\n",
    "import seaborn as sns"
   ]
  },
  {
   "cell_type": "code",
   "execution_count": 10,
   "id": "a9caa352",
   "metadata": {},
   "outputs": [],
   "source": [
    "knn_c = KNeighborsClassifier()"
   ]
  },
  {
   "cell_type": "code",
   "execution_count": 11,
   "id": "2a8a0af5",
   "metadata": {},
   "outputs": [
    {
     "data": {
      "text/plain": [
       "KNeighborsClassifier()"
      ]
     },
     "execution_count": 11,
     "metadata": {},
     "output_type": "execute_result"
    }
   ],
   "source": [
    "knn_c.fit(X_train, y_train)"
   ]
  },
  {
   "cell_type": "code",
   "execution_count": 12,
   "id": "ccdfc4af",
   "metadata": {},
   "outputs": [],
   "source": [
    "pred = knn_c.predict(X_test)"
   ]
  },
  {
   "cell_type": "code",
   "execution_count": 13,
   "id": "8a3cb3d8",
   "metadata": {},
   "outputs": [
    {
     "data": {
      "text/plain": [
       "array([1, 1, 1, ..., 0, 1, 1], dtype=int64)"
      ]
     },
     "execution_count": 13,
     "metadata": {},
     "output_type": "execute_result"
    }
   ],
   "source": [
    "pred"
   ]
  },
  {
   "cell_type": "code",
   "execution_count": 14,
   "id": "9c76ebbb",
   "metadata": {},
   "outputs": [
    {
     "data": {
      "text/plain": [
       "7154    0\n",
       "3258    1\n",
       "2188    1\n",
       "5609    0\n",
       "3186    1\n",
       "       ..\n",
       "8004    0\n",
       "7644    0\n",
       "8521    0\n",
       "957     1\n",
       "233     1\n",
       "Name: Gender, Length: 2567, dtype: int64"
      ]
     },
     "execution_count": 14,
     "metadata": {},
     "output_type": "execute_result"
    }
   ],
   "source": [
    "y_test"
   ]
  },
  {
   "cell_type": "code",
   "execution_count": 15,
   "id": "02818c5d",
   "metadata": {},
   "outputs": [
    {
     "data": {
      "text/plain": [
       "0.9146864043630697"
      ]
     },
     "execution_count": 15,
     "metadata": {},
     "output_type": "execute_result"
    }
   ],
   "source": [
    "accuracy = knn_c.score(X_test,y_test)\n",
    "accuracy"
   ]
  },
  {
   "cell_type": "code",
   "execution_count": 16,
   "id": "fb0a9f9c",
   "metadata": {},
   "outputs": [],
   "source": [
    "from sklearn.metrics import classification_report , accuracy_score, confusion_matrix, plot_roc_curve"
   ]
  },
  {
   "cell_type": "code",
   "execution_count": 17,
   "id": "f38aa7f1",
   "metadata": {},
   "outputs": [
    {
     "name": "stdout",
     "output_type": "stream",
     "text": [
      "              precision    recall  f1-score   support\n",
      "\n",
      "           0       0.90      0.89      0.90      1055\n",
      "           1       0.92      0.93      0.93      1512\n",
      "\n",
      "    accuracy                           0.91      2567\n",
      "   macro avg       0.91      0.91      0.91      2567\n",
      "weighted avg       0.91      0.91      0.91      2567\n",
      "\n"
     ]
    }
   ],
   "source": [
    "print(classification_report(y_test,pred))"
   ]
  },
  {
   "cell_type": "code",
   "execution_count": 18,
   "id": "9f37705d",
   "metadata": {},
   "outputs": [
    {
     "data": {
      "text/plain": [
       "array([[ 938,  117],\n",
       "       [ 102, 1410]], dtype=int64)"
      ]
     },
     "execution_count": 18,
     "metadata": {},
     "output_type": "execute_result"
    }
   ],
   "source": [
    "confusion_matrix(y_test,pred)"
   ]
  },
  {
   "cell_type": "code",
   "execution_count": 19,
   "id": "445e0256",
   "metadata": {},
   "outputs": [],
   "source": [
    "cm = confusion_matrix(y_test,pred)"
   ]
  },
  {
   "cell_type": "code",
   "execution_count": 20,
   "id": "20aa8313",
   "metadata": {},
   "outputs": [
    {
     "data": {
      "text/plain": [
       "<AxesSubplot:>"
      ]
     },
     "execution_count": 20,
     "metadata": {},
     "output_type": "execute_result"
    },
    {
     "data": {
      "image/png": "[encoded data removed]",
      "text/plain": [
       "<Figure size 432x288 with 2 Axes>"
      ]
     },
     "metadata": {
      "needs_background": "light"
     },
     "output_type": "display_data"
    }
   ],
   "source": [
    "sns.heatmap(cm,annot=True)"
   ]
  },
  {
   "cell_type": "code",
   "execution_count": 21,
   "id": "8d2b0d42",
   "metadata": {},
   "outputs": [],
   "source": [
    "tp , fn, fp,tn = confusion_matrix(y_test,pred).reshape(-1)"
   ]
  },
  {
   "cell_type": "code",
   "execution_count": 22,
   "id": "b72ae494",
   "metadata": {},
   "outputs": [
    {
     "data": {
      "text/plain": [
       "938"
      ]
     },
     "execution_count": 22,
     "metadata": {},
     "output_type": "execute_result"
    }
   ],
   "source": [
    "tp"
   ]
  },
  {
   "cell_type": "code",
   "execution_count": 23,
   "id": "f186d986",
   "metadata": {},
   "outputs": [
    {
     "data": {
      "text/plain": [
       "117"
      ]
     },
     "execution_count": 23,
     "metadata": {},
     "output_type": "execute_result"
    }
   ],
   "source": [
    "fn"
   ]
  },
  {
   "cell_type": "code",
   "execution_count": 24,
   "id": "00f800e0",
   "metadata": {},
   "outputs": [
    {
     "data": {
      "text/plain": [
       "102"
      ]
     },
     "execution_count": 24,
     "metadata": {},
     "output_type": "execute_result"
    }
   ],
   "source": [
    "fp"
   ]
  },
  {
   "cell_type": "code",
   "execution_count": 25,
   "id": "05d6b7be",
   "metadata": {},
   "outputs": [
    {
     "data": {
      "text/plain": [
       "1410"
      ]
     },
     "execution_count": 25,
     "metadata": {},
     "output_type": "execute_result"
    }
   ],
   "source": [
    "tn"
   ]
  },
  {
   "cell_type": "code",
   "execution_count": 26,
   "id": "f407cc30",
   "metadata": {},
   "outputs": [
    {
     "data": {
      "text/html": [
       "<div>\n",
       "<style scoped>\n",
       "    .dataframe tbody tr th:only-of-type {\n",
       "        vertical-align: middle;\n",
       "    }\n",
       "\n",
       "    .dataframe tbody tr th {\n",
       "        vertical-align: top;\n",
       "    }\n",
       "\n",
       "    .dataframe thead th {\n",
       "        text-align: right;\n",
       "    }\n",
       "</style>\n",
       "<table border=\"1\" class=\"dataframe\">\n",
       "  <thead>\n",
       "    <tr style=\"text-align: right;\">\n",
       "      <th>Predicted</th>\n",
       "      <th>0</th>\n",
       "      <th>1</th>\n",
       "      <th>All</th>\n",
       "    </tr>\n",
       "    <tr>\n",
       "      <th>True</th>\n",
       "      <th></th>\n",
       "      <th></th>\n",
       "      <th></th>\n",
       "    </tr>\n",
       "  </thead>\n",
       "  <tbody>\n",
       "    <tr>\n",
       "      <th>0</th>\n",
       "      <td>938</td>\n",
       "      <td>117</td>\n",
       "      <td>1055</td>\n",
       "    </tr>\n",
       "    <tr>\n",
       "      <th>1</th>\n",
       "      <td>102</td>\n",
       "      <td>1410</td>\n",
       "      <td>1512</td>\n",
       "    </tr>\n",
       "    <tr>\n",
       "      <th>All</th>\n",
       "      <td>1040</td>\n",
       "      <td>1527</td>\n",
       "      <td>2567</td>\n",
       "    </tr>\n",
       "  </tbody>\n",
       "</table>\n",
       "</div>"
      ],
      "text/plain": [
       "Predicted     0     1   All\n",
       "True                       \n",
       "0           938   117  1055\n",
       "1           102  1410  1512\n",
       "All        1040  1527  2567"
      ]
     },
     "execution_count": 26,
     "metadata": {},
     "output_type": "execute_result"
    }
   ],
   "source": [
    "pd.crosstab(y_test, pred, rownames=['True'], colnames=['Predicted'], margins=True)"
   ]
  },
  {
   "cell_type": "code",
   "execution_count": 27,
   "id": "5826b9f9",
   "metadata": {},
   "outputs": [],
   "source": [
    "pred_prob = knn_c.predict_proba(X_test)[:,1]"
   ]
  },
  {
   "cell_type": "code",
   "execution_count": 28,
   "id": "2fff5361",
   "metadata": {},
   "outputs": [],
   "source": [
    "from sklearn.metrics import roc_curve\n",
    "from sklearn.metrics import auc"
   ]
  },
  {
   "cell_type": "code",
   "execution_count": 29,
   "id": "481a6d37",
   "metadata": {},
   "outputs": [],
   "source": [
    "fpr, tpr, thresholds = roc_curve(y_test, pred_prob)\n",
    "roc_auc = auc(fpr, tpr)"
   ]
  },
  {
   "cell_type": "code",
   "execution_count": 30,
   "id": "4653d39f",
   "metadata": {},
   "outputs": [
    {
     "data": {
      "image/png": "[encoded data removed]",
      "text/plain": [
       "<Figure size 432x288 with 1 Axes>"
      ]
     },
     "metadata": {
      "needs_background": "light"
     },
     "output_type": "display_data"
    }
   ],
   "source": [
    "plt.plot([0,1], [0,1], color=\"navy\", linestyle=\"--\")\n",
    "plt.plot(fpr,tpr, 'b', label = 'AUC = %0.2f' % roc_auc)\n",
    "plt.xlabel('False Positive Rate')\n",
    "plt.ylabel('True Positive Rate')\n",
    "plt.title('Knn(n_neighbors=default) ROC curve')\n",
    "plt.legend(loc = 'lower right')\n",
    "plt.show()"
   ]
  },
  {
   "cell_type": "code",
   "execution_count": 33,
   "id": "6fe03a7b",
   "metadata": {},
   "outputs": [],
   "source": [
    "from sklearn.ensemble import RandomForestClassifier"
   ]
  },
  {
   "cell_type": "code",
   "execution_count": 34,
   "id": "f3b25e19",
   "metadata": {},
   "outputs": [],
   "source": [
    "ran = RandomForestClassifier(n_estimators=10)"
   ]
  },
  {
   "cell_type": "code",
   "execution_count": 35,
   "id": "e76be70d",
   "metadata": {},
   "outputs": [
    {
     "data": {
      "text/plain": [
       "RandomForestClassifier(n_estimators=10)"
      ]
     },
     "execution_count": 35,
     "metadata": {},
     "output_type": "execute_result"
    }
   ],
   "source": [
    "ran.fit(X_train,y_train)"
   ]
  },
  {
   "cell_type": "code",
   "execution_count": 36,
   "id": "3d16d1ed",
   "metadata": {},
   "outputs": [
    {
     "data": {
      "text/plain": [
       "0.9080638878067784"
      ]
     },
     "execution_count": 36,
     "metadata": {},
     "output_type": "execute_result"
    }
   ],
   "source": [
    "ran.score(X_test,y_test)"
   ]
  },
  {
   "cell_type": "code",
   "execution_count": 37,
   "id": "702fa926",
   "metadata": {},
   "outputs": [],
   "source": [
    "prd_ran = ran.predict(X_test)"
   ]
  },
  {
   "cell_type": "code",
   "execution_count": 59,
   "id": "e334b2f3",
   "metadata": {},
   "outputs": [
    {
     "data": {
      "text/plain": [
       "array([1, 1, 1, ..., 0, 1, 1], dtype=int64)"
      ]
     },
     "execution_count": 59,
     "metadata": {},
     "output_type": "execute_result"
    }
   ],
   "source": [
    "prd_ran"
   ]
  },
  {
   "cell_type": "code",
   "execution_count": 39,
   "id": "4e8eb2fe",
   "metadata": {},
   "outputs": [
    {
     "data": {
      "text/plain": [
       "0.9080638878067784"
      ]
     },
     "execution_count": 39,
     "metadata": {},
     "output_type": "execute_result"
    }
   ],
   "source": [
    "accuracy = accuracy_score(y_test, prd_ran)\n",
    "accuracy"
   ]
  },
  {
   "cell_type": "code",
   "execution_count": 44,
   "id": "cab218b8",
   "metadata": {},
   "outputs": [],
   "source": [
    "import numpy as np"
   ]
  },
  {
   "cell_type": "code",
   "execution_count": 45,
   "id": "6e401e71",
   "metadata": {},
   "outputs": [
    {
     "name": "stdout",
     "output_type": "stream",
     "text": [
      "{'n_estimators': [50, 60, 71, 82, 92, 103, 114, 125, 135, 146, 157, 167, 178, 189, 200], 'max_features': ['auto', 'sqrt', 'log2'], 'max_depth': [2, 3, 4, 5, 6, 7, 8, 9, 10, 11, 12], 'min_samples_split': [2, 3, 4, 5, 6, 7, 8, 9, 10, 11, 12], 'min_samples_leaf': [2, 3, 4, 5, 6, 7, 8, 9, 10, 11, 12], 'criterion': ['entropy', 'gini']}\n"
     ]
    }
   ],
   "source": [
    "n_estimators = [int(x) for x in np.linspace(start = 50, stop = 200, num = 15)]\n",
    "\n",
    "max_features = ['auto', 'sqrt','log2']\n",
    "\n",
    "max_depth = [2,3,4,5,6,7,8,9,10,11,12]\n",
    "\n",
    "min_samples_split = [2,3,4,5,6,7,8,9,10,11,12]\n",
    "\n",
    "min_samples_leaf = [2,3,4,5,6,7,8,9,10,11,12]\n",
    "\n",
    "# Create ids\n",
    "grids = {'n_estimators': n_estimators,\n",
    "               'max_features': max_features,\n",
    "               'max_depth': max_depth,\n",
    "               'min_samples_split': min_samples_split,\n",
    "               'min_samples_leaf': min_samples_leaf,\n",
    "              'criterion':['entropy','gini']}\n",
    "print(grids)"
   ]
  },
  {
   "cell_type": "code",
   "execution_count": 46,
   "id": "eca8a28f",
   "metadata": {},
   "outputs": [],
   "source": [
    "from sklearn.model_selection import RandomizedSearchCV"
   ]
  },
  {
   "cell_type": "code",
   "execution_count": 47,
   "id": "da06105a",
   "metadata": {},
   "outputs": [],
   "source": [
    "rnf = RandomForestClassifier()"
   ]
  },
  {
   "cell_type": "code",
   "execution_count": 48,
   "id": "dd92aad7",
   "metadata": {},
   "outputs": [],
   "source": [
    "rmcv = RandomizedSearchCV(estimator=rnf, param_distributions=grids, n_iter=100, cv=5)"
   ]
  },
  {
   "cell_type": "code",
   "execution_count": 49,
   "id": "5504cf6f",
   "metadata": {},
   "outputs": [
    {
     "data": {
      "text/plain": [
       "RandomizedSearchCV(cv=5, estimator=RandomForestClassifier(), n_iter=100,\n",
       "                   param_distributions={'criterion': ['entropy', 'gini'],\n",
       "                                        'max_depth': [2, 3, 4, 5, 6, 7, 8, 9,\n",
       "                                                      10, 11, 12],\n",
       "                                        'max_features': ['auto', 'sqrt',\n",
       "                                                         'log2'],\n",
       "                                        'min_samples_leaf': [2, 3, 4, 5, 6, 7,\n",
       "                                                             8, 9, 10, 11, 12],\n",
       "                                        'min_samples_split': [2, 3, 4, 5, 6, 7,\n",
       "                                                              8, 9, 10, 11,\n",
       "                                                              12],\n",
       "                                        'n_estimators': [50, 60, 71, 82, 92,\n",
       "                                                         103, 114, 125, 135,\n",
       "                                                         146, 157, 167, 178,\n",
       "                                                         189, 200]})"
      ]
     },
     "execution_count": 49,
     "metadata": {},
     "output_type": "execute_result"
    }
   ],
   "source": [
    "rmcv"
   ]
  },
  {
   "cell_type": "code",
   "execution_count": 50,
   "id": "eedc58c0",
   "metadata": {},
   "outputs": [
    {
     "data": {
      "text/plain": [
       "RandomizedSearchCV(cv=5, estimator=RandomForestClassifier(), n_iter=100,\n",
       "                   param_distributions={'criterion': ['entropy', 'gini'],\n",
       "                                        'max_depth': [2, 3, 4, 5, 6, 7, 8, 9,\n",
       "                                                      10, 11, 12],\n",
       "                                        'max_features': ['auto', 'sqrt',\n",
       "                                                         'log2'],\n",
       "                                        'min_samples_leaf': [2, 3, 4, 5, 6, 7,\n",
       "                                                             8, 9, 10, 11, 12],\n",
       "                                        'min_samples_split': [2, 3, 4, 5, 6, 7,\n",
       "                                                              8, 9, 10, 11,\n",
       "                                                              12],\n",
       "                                        'n_estimators': [50, 60, 71, 82, 92,\n",
       "                                                         103, 114, 125, 135,\n",
       "                                                         146, 157, 167, 178,\n",
       "                                                         189, 200]})"
      ]
     },
     "execution_count": 50,
     "metadata": {},
     "output_type": "execute_result"
    }
   ],
   "source": [
    "rmcv.fit(X_train,y_train)"
   ]
  },
  {
   "cell_type": "code",
   "execution_count": 51,
   "id": "24adbfb4",
   "metadata": {},
   "outputs": [
    {
     "data": {
      "text/plain": [
       "{'n_estimators': 178,\n",
       " 'min_samples_split': 10,\n",
       " 'min_samples_leaf': 2,\n",
       " 'max_features': 'sqrt',\n",
       " 'max_depth': 7,\n",
       " 'criterion': 'gini'}"
      ]
     },
     "execution_count": 51,
     "metadata": {},
     "output_type": "execute_result"
    }
   ],
   "source": [
    "rmcv.best_params_"
   ]
  },
  {
   "cell_type": "code",
   "execution_count": 52,
   "id": "166fe037",
   "metadata": {},
   "outputs": [],
   "source": [
    "result = pd.DataFrame(rmcv.cv_results_)"
   ]
  },
  {
   "cell_type": "code",
   "execution_count": 53,
   "id": "be16be5a",
   "metadata": {},
   "outputs": [
    {
     "data": {
      "text/html": [
       "<div>\n",
       "<style scoped>\n",
       "    .dataframe tbody tr th:only-of-type {\n",
       "        vertical-align: middle;\n",
       "    }\n",
       "\n",
       "    .dataframe tbody tr th {\n",
       "        vertical-align: top;\n",
       "    }\n",
       "\n",
       "    .dataframe thead th {\n",
       "        text-align: right;\n",
       "    }\n",
       "</style>\n",
       "<table border=\"1\" class=\"dataframe\">\n",
       "  <thead>\n",
       "    <tr style=\"text-align: right;\">\n",
       "      <th></th>\n",
       "      <th>mean_fit_time</th>\n",
       "      <th>std_fit_time</th>\n",
       "      <th>mean_score_time</th>\n",
       "      <th>std_score_time</th>\n",
       "      <th>param_n_estimators</th>\n",
       "      <th>param_min_samples_split</th>\n",
       "      <th>param_min_samples_leaf</th>\n",
       "      <th>param_max_features</th>\n",
       "      <th>param_max_depth</th>\n",
       "      <th>param_criterion</th>\n",
       "      <th>params</th>\n",
       "      <th>split0_test_score</th>\n",
       "      <th>split1_test_score</th>\n",
       "      <th>split2_test_score</th>\n",
       "      <th>split3_test_score</th>\n",
       "      <th>split4_test_score</th>\n",
       "      <th>mean_test_score</th>\n",
       "      <th>std_test_score</th>\n",
       "      <th>rank_test_score</th>\n",
       "    </tr>\n",
       "  </thead>\n",
       "  <tbody>\n",
       "    <tr>\n",
       "      <th>0</th>\n",
       "      <td>0.751055</td>\n",
       "      <td>0.039489</td>\n",
       "      <td>0.044207</td>\n",
       "      <td>0.004169</td>\n",
       "      <td>157</td>\n",
       "      <td>4</td>\n",
       "      <td>11</td>\n",
       "      <td>log2</td>\n",
       "      <td>12</td>\n",
       "      <td>gini</td>\n",
       "      <td>{'n_estimators': 157, 'min_samples_split': 4, ...</td>\n",
       "      <td>0.907346</td>\n",
       "      <td>0.912354</td>\n",
       "      <td>0.912354</td>\n",
       "      <td>0.911445</td>\n",
       "      <td>0.926483</td>\n",
       "      <td>0.913996</td>\n",
       "      <td>0.006512</td>\n",
       "      <td>41</td>\n",
       "    </tr>\n",
       "    <tr>\n",
       "      <th>1</th>\n",
       "      <td>0.523638</td>\n",
       "      <td>0.023372</td>\n",
       "      <td>0.032003</td>\n",
       "      <td>0.001897</td>\n",
       "      <td>135</td>\n",
       "      <td>3</td>\n",
       "      <td>8</td>\n",
       "      <td>log2</td>\n",
       "      <td>5</td>\n",
       "      <td>gini</td>\n",
       "      <td>{'n_estimators': 135, 'min_samples_split': 3, ...</td>\n",
       "      <td>0.902337</td>\n",
       "      <td>0.914023</td>\n",
       "      <td>0.911519</td>\n",
       "      <td>0.908939</td>\n",
       "      <td>0.929825</td>\n",
       "      <td>0.913329</td>\n",
       "      <td>0.009121</td>\n",
       "      <td>58</td>\n",
       "    </tr>\n",
       "    <tr>\n",
       "      <th>2</th>\n",
       "      <td>0.774457</td>\n",
       "      <td>0.033384</td>\n",
       "      <td>0.043003</td>\n",
       "      <td>0.003899</td>\n",
       "      <td>178</td>\n",
       "      <td>10</td>\n",
       "      <td>2</td>\n",
       "      <td>sqrt</td>\n",
       "      <td>7</td>\n",
       "      <td>gini</td>\n",
       "      <td>{'n_estimators': 178, 'min_samples_split': 10,...</td>\n",
       "      <td>0.909015</td>\n",
       "      <td>0.913189</td>\n",
       "      <td>0.913189</td>\n",
       "      <td>0.912281</td>\n",
       "      <td>0.929825</td>\n",
       "      <td>0.915500</td>\n",
       "      <td>0.007325</td>\n",
       "      <td>1</td>\n",
       "    </tr>\n",
       "    <tr>\n",
       "      <th>3</th>\n",
       "      <td>0.367627</td>\n",
       "      <td>0.008569</td>\n",
       "      <td>0.021202</td>\n",
       "      <td>0.000980</td>\n",
       "      <td>82</td>\n",
       "      <td>3</td>\n",
       "      <td>7</td>\n",
       "      <td>auto</td>\n",
       "      <td>7</td>\n",
       "      <td>gini</td>\n",
       "      <td>{'n_estimators': 82, 'min_samples_split': 3, '...</td>\n",
       "      <td>0.907346</td>\n",
       "      <td>0.914858</td>\n",
       "      <td>0.914023</td>\n",
       "      <td>0.910610</td>\n",
       "      <td>0.927318</td>\n",
       "      <td>0.914831</td>\n",
       "      <td>0.006789</td>\n",
       "      <td>12</td>\n",
       "    </tr>\n",
       "    <tr>\n",
       "      <th>4</th>\n",
       "      <td>1.201094</td>\n",
       "      <td>0.052983</td>\n",
       "      <td>0.050404</td>\n",
       "      <td>0.003383</td>\n",
       "      <td>189</td>\n",
       "      <td>4</td>\n",
       "      <td>3</td>\n",
       "      <td>auto</td>\n",
       "      <td>9</td>\n",
       "      <td>entropy</td>\n",
       "      <td>{'n_estimators': 189, 'min_samples_split': 4, ...</td>\n",
       "      <td>0.904841</td>\n",
       "      <td>0.910684</td>\n",
       "      <td>0.912354</td>\n",
       "      <td>0.910610</td>\n",
       "      <td>0.928989</td>\n",
       "      <td>0.913496</td>\n",
       "      <td>0.008154</td>\n",
       "      <td>53</td>\n",
       "    </tr>\n",
       "    <tr>\n",
       "      <th>...</th>\n",
       "      <td>...</td>\n",
       "      <td>...</td>\n",
       "      <td>...</td>\n",
       "      <td>...</td>\n",
       "      <td>...</td>\n",
       "      <td>...</td>\n",
       "      <td>...</td>\n",
       "      <td>...</td>\n",
       "      <td>...</td>\n",
       "      <td>...</td>\n",
       "      <td>...</td>\n",
       "      <td>...</td>\n",
       "      <td>...</td>\n",
       "      <td>...</td>\n",
       "      <td>...</td>\n",
       "      <td>...</td>\n",
       "      <td>...</td>\n",
       "      <td>...</td>\n",
       "      <td>...</td>\n",
       "    </tr>\n",
       "    <tr>\n",
       "      <th>95</th>\n",
       "      <td>0.316023</td>\n",
       "      <td>0.009529</td>\n",
       "      <td>0.023203</td>\n",
       "      <td>0.004957</td>\n",
       "      <td>92</td>\n",
       "      <td>9</td>\n",
       "      <td>7</td>\n",
       "      <td>auto</td>\n",
       "      <td>3</td>\n",
       "      <td>gini</td>\n",
       "      <td>{'n_estimators': 92, 'min_samples_split': 9, '...</td>\n",
       "      <td>0.894825</td>\n",
       "      <td>0.906511</td>\n",
       "      <td>0.913189</td>\n",
       "      <td>0.908939</td>\n",
       "      <td>0.929825</td>\n",
       "      <td>0.910658</td>\n",
       "      <td>0.011354</td>\n",
       "      <td>81</td>\n",
       "    </tr>\n",
       "    <tr>\n",
       "      <th>96</th>\n",
       "      <td>0.751121</td>\n",
       "      <td>0.047227</td>\n",
       "      <td>0.040402</td>\n",
       "      <td>0.003979</td>\n",
       "      <td>146</td>\n",
       "      <td>5</td>\n",
       "      <td>5</td>\n",
       "      <td>log2</td>\n",
       "      <td>11</td>\n",
       "      <td>gini</td>\n",
       "      <td>{'n_estimators': 146, 'min_samples_split': 5, ...</td>\n",
       "      <td>0.909015</td>\n",
       "      <td>0.914023</td>\n",
       "      <td>0.914023</td>\n",
       "      <td>0.909774</td>\n",
       "      <td>0.923977</td>\n",
       "      <td>0.914163</td>\n",
       "      <td>0.005331</td>\n",
       "      <td>39</td>\n",
       "    </tr>\n",
       "    <tr>\n",
       "      <th>97</th>\n",
       "      <td>0.901867</td>\n",
       "      <td>0.045878</td>\n",
       "      <td>0.050604</td>\n",
       "      <td>0.006153</td>\n",
       "      <td>178</td>\n",
       "      <td>8</td>\n",
       "      <td>7</td>\n",
       "      <td>sqrt</td>\n",
       "      <td>8</td>\n",
       "      <td>gini</td>\n",
       "      <td>{'n_estimators': 178, 'min_samples_split': 8, ...</td>\n",
       "      <td>0.907346</td>\n",
       "      <td>0.911519</td>\n",
       "      <td>0.914023</td>\n",
       "      <td>0.912281</td>\n",
       "      <td>0.927318</td>\n",
       "      <td>0.914497</td>\n",
       "      <td>0.006775</td>\n",
       "      <td>22</td>\n",
       "    </tr>\n",
       "    <tr>\n",
       "      <th>98</th>\n",
       "      <td>0.373028</td>\n",
       "      <td>0.015685</td>\n",
       "      <td>0.025601</td>\n",
       "      <td>0.001855</td>\n",
       "      <td>125</td>\n",
       "      <td>9</td>\n",
       "      <td>9</td>\n",
       "      <td>auto</td>\n",
       "      <td>2</td>\n",
       "      <td>gini</td>\n",
       "      <td>{'n_estimators': 125, 'min_samples_split': 9, ...</td>\n",
       "      <td>0.883973</td>\n",
       "      <td>0.901503</td>\n",
       "      <td>0.898164</td>\n",
       "      <td>0.901420</td>\n",
       "      <td>0.921470</td>\n",
       "      <td>0.901306</td>\n",
       "      <td>0.011975</td>\n",
       "      <td>99</td>\n",
       "    </tr>\n",
       "    <tr>\n",
       "      <th>99</th>\n",
       "      <td>0.772056</td>\n",
       "      <td>0.015901</td>\n",
       "      <td>0.043604</td>\n",
       "      <td>0.003382</td>\n",
       "      <td>178</td>\n",
       "      <td>10</td>\n",
       "      <td>9</td>\n",
       "      <td>log2</td>\n",
       "      <td>6</td>\n",
       "      <td>gini</td>\n",
       "      <td>{'n_estimators': 178, 'min_samples_split': 10,...</td>\n",
       "      <td>0.904841</td>\n",
       "      <td>0.913189</td>\n",
       "      <td>0.912354</td>\n",
       "      <td>0.911445</td>\n",
       "      <td>0.929825</td>\n",
       "      <td>0.914331</td>\n",
       "      <td>0.008290</td>\n",
       "      <td>27</td>\n",
       "    </tr>\n",
       "  </tbody>\n",
       "</table>\n",
       "<p>100 rows × 19 columns</p>\n",
       "</div>"
      ],
      "text/plain": [
       "    mean_fit_time  std_fit_time  mean_score_time  std_score_time  \\\n",
       "0        0.751055      0.039489         0.044207        0.004169   \n",
       "1        0.523638      0.023372         0.032003        0.001897   \n",
       "2        0.774457      0.033384         0.043003        0.003899   \n",
       "3        0.367627      0.008569         0.021202        0.000980   \n",
       "4        1.201094      0.052983         0.050404        0.003383   \n",
       "..            ...           ...              ...             ...   \n",
       "95       0.316023      0.009529         0.023203        0.004957   \n",
       "96       0.751121      0.047227         0.040402        0.003979   \n",
       "97       0.901867      0.045878         0.050604        0.006153   \n",
       "98       0.373028      0.015685         0.025601        0.001855   \n",
       "99       0.772056      0.015901         0.043604        0.003382   \n",
       "\n",
       "   param_n_estimators param_min_samples_split param_min_samples_leaf  \\\n",
       "0                 157                       4                     11   \n",
       "1                 135                       3                      8   \n",
       "2                 178                      10                      2   \n",
       "3                  82                       3                      7   \n",
       "4                 189                       4                      3   \n",
       "..                ...                     ...                    ...   \n",
       "95                 92                       9                      7   \n",
       "96                146                       5                      5   \n",
       "97                178                       8                      7   \n",
       "98                125                       9                      9   \n",
       "99                178                      10                      9   \n",
       "\n",
       "   param_max_features param_max_depth param_criterion  \\\n",
       "0                log2              12            gini   \n",
       "1                log2               5            gini   \n",
       "2                sqrt               7            gini   \n",
       "3                auto               7            gini   \n",
       "4                auto               9         entropy   \n",
       "..                ...             ...             ...   \n",
       "95               auto               3            gini   \n",
       "96               log2              11            gini   \n",
       "97               sqrt               8            gini   \n",
       "98               auto               2            gini   \n",
       "99               log2               6            gini   \n",
       "\n",
       "                                               params  split0_test_score  \\\n",
       "0   {'n_estimators': 157, 'min_samples_split': 4, ...           0.907346   \n",
       "1   {'n_estimators': 135, 'min_samples_split': 3, ...           0.902337   \n",
       "2   {'n_estimators': 178, 'min_samples_split': 10,...           0.909015   \n",
       "3   {'n_estimators': 82, 'min_samples_split': 3, '...           0.907346   \n",
       "4   {'n_estimators': 189, 'min_samples_split': 4, ...           0.904841   \n",
       "..                                                ...                ...   \n",
       "95  {'n_estimators': 92, 'min_samples_split': 9, '...           0.894825   \n",
       "96  {'n_estimators': 146, 'min_samples_split': 5, ...           0.909015   \n",
       "97  {'n_estimators': 178, 'min_samples_split': 8, ...           0.907346   \n",
       "98  {'n_estimators': 125, 'min_samples_split': 9, ...           0.883973   \n",
       "99  {'n_estimators': 178, 'min_samples_split': 10,...           0.904841   \n",
       "\n",
       "    split1_test_score  split2_test_score  split3_test_score  \\\n",
       "0            0.912354           0.912354           0.911445   \n",
       "1            0.914023           0.911519           0.908939   \n",
       "2            0.913189           0.913189           0.912281   \n",
       "3            0.914858           0.914023           0.910610   \n",
       "4            0.910684           0.912354           0.910610   \n",
       "..                ...                ...                ...   \n",
       "95           0.906511           0.913189           0.908939   \n",
       "96           0.914023           0.914023           0.909774   \n",
       "97           0.911519           0.914023           0.912281   \n",
       "98           0.901503           0.898164           0.901420   \n",
       "99           0.913189           0.912354           0.911445   \n",
       "\n",
       "    split4_test_score  mean_test_score  std_test_score  rank_test_score  \n",
       "0            0.926483         0.913996        0.006512               41  \n",
       "1            0.929825         0.913329        0.009121               58  \n",
       "2            0.929825         0.915500        0.007325                1  \n",
       "3            0.927318         0.914831        0.006789               12  \n",
       "4            0.928989         0.913496        0.008154               53  \n",
       "..                ...              ...             ...              ...  \n",
       "95           0.929825         0.910658        0.011354               81  \n",
       "96           0.923977         0.914163        0.005331               39  \n",
       "97           0.927318         0.914497        0.006775               22  \n",
       "98           0.921470         0.901306        0.011975               99  \n",
       "99           0.929825         0.914331        0.008290               27  \n",
       "\n",
       "[100 rows x 19 columns]"
      ]
     },
     "execution_count": 53,
     "metadata": {},
     "output_type": "execute_result"
    }
   ],
   "source": [
    "result"
   ]
  },
  {
   "cell_type": "code",
   "execution_count": 54,
   "id": "55c2e488",
   "metadata": {},
   "outputs": [
    {
     "data": {
      "text/plain": [
       "0.9154995167384236"
      ]
     },
     "execution_count": 54,
     "metadata": {},
     "output_type": "execute_result"
    }
   ],
   "source": [
    "rmcv.best_score_"
   ]
  },
  {
   "cell_type": "code",
   "execution_count": 55,
   "id": "4d5d4a05",
   "metadata": {},
   "outputs": [
    {
     "data": {
      "text/plain": [
       "{'n_estimators': 178,\n",
       " 'min_samples_split': 10,\n",
       " 'min_samples_leaf': 2,\n",
       " 'max_features': 'sqrt',\n",
       " 'max_depth': 7,\n",
       " 'criterion': 'gini'}"
      ]
     },
     "execution_count": 55,
     "metadata": {},
     "output_type": "execute_result"
    }
   ],
   "source": [
    "rmcv.best_params_"
   ]
  },
  {
   "cell_type": "code",
   "execution_count": 56,
   "id": "74d87a44",
   "metadata": {},
   "outputs": [],
   "source": [
    "random_forest = rmcv.best_estimator_"
   ]
  },
  {
   "cell_type": "code",
   "execution_count": 57,
   "id": "5f559c0e",
   "metadata": {},
   "outputs": [
    {
     "data": {
      "text/plain": [
       "RandomForestClassifier(max_depth=7, max_features='sqrt', min_samples_leaf=2,\n",
       "                       min_samples_split=10, n_estimators=178)"
      ]
     },
     "execution_count": 57,
     "metadata": {},
     "output_type": "execute_result"
    }
   ],
   "source": [
    "random_forest"
   ]
  },
  {
   "cell_type": "code",
   "execution_count": 58,
   "id": "83f505a3",
   "metadata": {},
   "outputs": [
    {
     "data": {
      "text/plain": [
       "0.9236462797039345"
      ]
     },
     "execution_count": 58,
     "metadata": {},
     "output_type": "execute_result"
    }
   ],
   "source": [
    "random_forest.score(X_test,y_test)"
   ]
  },
  {
   "cell_type": "code",
   "execution_count": null,
   "id": "de1a1d0b",
   "metadata": {},
   "outputs": [],
   "source": []
  }
 ],
 "metadata": {
  "kernelspec": {
   "display_name": "Python 3 (ipykernel)",
   "language": "python",
   "name": "python3"
  },
  "language_info": {
   "codemirror_mode": {
    "name": "ipython",
    "version": 3
   },
   "file_extension": ".py",
   "mimetype": "text/x-python",
   "name": "python",
   "nbconvert_exporter": "python",
   "pygments_lexer": "ipython3",
   "version": "3.8.12"
  }
 },
 "nbformat": 4,
 "nbformat_minor": 5
}
