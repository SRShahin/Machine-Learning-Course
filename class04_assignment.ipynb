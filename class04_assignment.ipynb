{
 "cells": [
  {
   "cell_type": "markdown",
   "id": "2940c417",
   "metadata": {},
   "source": [
    "# LINEAR REGRESSION"
   ]
  },
  {
   "cell_type": "code",
   "execution_count": null,
   "id": "cc7b397c",
   "metadata": {},
   "outputs": [],
   "source": [
    "import pandas as pd"
   ]
  },
  {
   "cell_type": "code",
   "execution_count": null,
   "id": "76cbdbe5",
   "metadata": {},
   "outputs": [],
   "source": [
    "df = pd.read_excel(\"Rent Data.xlsx\")\n",
    "print(df.shape)\n",
    "df.head()"
   ]
  },
  {
   "cell_type": "code",
   "execution_count": null,
   "id": "f21c1159",
   "metadata": {},
   "outputs": [],
   "source": [
    "df.isnull().sum()"
   ]
  },
  {
   "cell_type": "markdown",
   "id": "3309cb09",
   "metadata": {},
   "source": [
    "# Data Visualization"
   ]
  },
  {
   "cell_type": "code",
   "execution_count": null,
   "id": "3c833426",
   "metadata": {},
   "outputs": [],
   "source": [
    "import matplotlib.pyplot as plt"
   ]
  },
  {
   "cell_type": "code",
   "execution_count": null,
   "id": "e76b494d",
   "metadata": {},
   "outputs": [],
   "source": [
    "plt.scatter(df['area'], df['rent'], color='magenta')\n",
    "plt.xlabel('Area')\n",
    "plt.ylabel('Rent')\n",
    "plt.title('Area-Rent Table')"
   ]
  },
  {
   "cell_type": "code",
   "execution_count": null,
   "id": "094f7e17",
   "metadata": {},
   "outputs": [],
   "source": [
    "df.area.mean()"
   ]
  },
  {
   "cell_type": "code",
   "execution_count": null,
   "id": "885e82bc",
   "metadata": {},
   "outputs": [],
   "source": [
    "df.rent.mean()"
   ]
  },
  {
   "cell_type": "code",
   "execution_count": null,
   "id": "42b3128d",
   "metadata": {},
   "outputs": [],
   "source": [
    "#x = df[['area']]\n",
    "#y = df['rent']\n",
    "x = df.drop('rent', axis=1)\n",
    "y = df['rent']"
   ]
  },
  {
   "cell_type": "code",
   "execution_count": null,
   "id": "9a6a12a1",
   "metadata": {},
   "outputs": [],
   "source": [
    "x.head()"
   ]
  },
  {
   "cell_type": "code",
   "execution_count": null,
   "id": "72834517",
   "metadata": {},
   "outputs": [],
   "source": [
    "y.tail()"
   ]
  },
  {
   "cell_type": "markdown",
   "id": "159b8bcb",
   "metadata": {},
   "source": [
    "# Train Test Data"
   ]
  },
  {
   "cell_type": "code",
   "execution_count": null,
   "id": "9609efdc",
   "metadata": {},
   "outputs": [],
   "source": [
    "from sklearn.model_selection import train_test_split"
   ]
  },
  {
   "cell_type": "code",
   "execution_count": null,
   "id": "cc8a3230",
   "metadata": {},
   "outputs": [],
   "source": [
    "xtrain,xtest , ytrain,ytest = train_test_split(x,y,train_size=.80)"
   ]
  },
  {
   "cell_type": "code",
   "execution_count": null,
   "id": "5c019cb7",
   "metadata": {},
   "outputs": [],
   "source": [
    "xtrain.shape"
   ]
  },
  {
   "cell_type": "code",
   "execution_count": null,
   "id": "3739c5f5",
   "metadata": {},
   "outputs": [],
   "source": [
    "xtest.shape"
   ]
  },
  {
   "cell_type": "code",
   "execution_count": null,
   "id": "da221da7",
   "metadata": {},
   "outputs": [],
   "source": [
    "xtrain.head()"
   ]
  },
  {
   "cell_type": "code",
   "execution_count": null,
   "id": "e7c1da74",
   "metadata": {},
   "outputs": [],
   "source": [
    "ytrain.head()"
   ]
  },
  {
   "cell_type": "markdown",
   "id": "43acc03e",
   "metadata": {},
   "source": [
    "# Linear Regression"
   ]
  },
  {
   "cell_type": "code",
   "execution_count": null,
   "id": "978c77b5",
   "metadata": {},
   "outputs": [],
   "source": [
    "from sklearn.linear_model import LinearRegression"
   ]
  },
  {
   "cell_type": "code",
   "execution_count": null,
   "id": "4cbbb573",
   "metadata": {},
   "outputs": [],
   "source": [
    "lr = LinearRegression()"
   ]
  },
  {
   "cell_type": "code",
   "execution_count": null,
   "id": "78da6a23",
   "metadata": {},
   "outputs": [],
   "source": [
    "lr.fit(xtrain,ytrain)"
   ]
  },
  {
   "cell_type": "code",
   "execution_count": null,
   "id": "943f9a20",
   "metadata": {},
   "outputs": [],
   "source": [
    "m = lr.coef_\n",
    "c = lr.intercept_"
   ]
  },
  {
   "cell_type": "code",
   "execution_count": null,
   "id": "460aac31",
   "metadata": {},
   "outputs": [],
   "source": [
    "m"
   ]
  },
  {
   "cell_type": "code",
   "execution_count": null,
   "id": "ae92c8b2",
   "metadata": {},
   "outputs": [],
   "source": [
    "c"
   ]
  },
  {
   "cell_type": "code",
   "execution_count": null,
   "id": "2cbc4d35",
   "metadata": {},
   "outputs": [],
   "source": [
    "#y = m*x + c\n",
    "y = m*2300 + c\n",
    "y"
   ]
  },
  {
   "cell_type": "code",
   "execution_count": null,
   "id": "0b9e6ec4",
   "metadata": {},
   "outputs": [],
   "source": [
    "lr.predict([[2300]])"
   ]
  },
  {
   "cell_type": "code",
   "execution_count": null,
   "id": "624ef608",
   "metadata": {},
   "outputs": [],
   "source": [
    "lr.score(xtest,ytest)"
   ]
  },
  {
   "cell_type": "code",
   "execution_count": null,
   "id": "845c7641",
   "metadata": {},
   "outputs": [],
   "source": [
    "pred = lr.predict(xtest)"
   ]
  },
  {
   "cell_type": "code",
   "execution_count": null,
   "id": "e0809fae",
   "metadata": {},
   "outputs": [],
   "source": [
    "pred"
   ]
  },
  {
   "cell_type": "code",
   "execution_count": null,
   "id": "93bf3240",
   "metadata": {},
   "outputs": [],
   "source": [
    "df['new rent'] = lr.predict(x)"
   ]
  },
  {
   "cell_type": "code",
   "execution_count": null,
   "id": "5fdeb9a5",
   "metadata": {},
   "outputs": [],
   "source": [
    "df.head(10)"
   ]
  },
  {
   "cell_type": "code",
   "execution_count": null,
   "id": "f2e8f50f",
   "metadata": {},
   "outputs": [],
   "source": [
    "from sklearn.metrics import mean_squared_error"
   ]
  },
  {
   "cell_type": "code",
   "execution_count": null,
   "id": "0ead9577",
   "metadata": {},
   "outputs": [],
   "source": [
    "mse = mean_squared_error(ytest,lr.predict(xtest))"
   ]
  },
  {
   "cell_type": "code",
   "execution_count": null,
   "id": "5e0e1665",
   "metadata": {},
   "outputs": [],
   "source": [
    "mse"
   ]
  },
  {
   "cell_type": "code",
   "execution_count": null,
   "id": "cdb9027b",
   "metadata": {},
   "outputs": [],
   "source": [
    "plt.scatter(df['area'], df['rent'], color='magenta')\n",
    "plt.xlabel('Area')\n",
    "plt.ylabel('Rent')\n",
    "plt.title('Area-Rent Table')\n",
    "plt.plot(df.area , df['new rent'],color='green')"
   ]
  },
  {
   "cell_type": "code",
   "execution_count": null,
   "id": "04332ea4",
   "metadata": {},
   "outputs": [],
   "source": [
    "lr.predict([[2300]])"
   ]
  },
  {
   "cell_type": "markdown",
   "id": "53c7aa85",
   "metadata": {},
   "source": [
    "# Save ML Model"
   ]
  },
  {
   "cell_type": "markdown",
   "id": "485ace5d",
   "metadata": {},
   "source": [
    "# Pickle"
   ]
  },
  {
   "cell_type": "code",
   "execution_count": null,
   "id": "0da8e37f",
   "metadata": {},
   "outputs": [],
   "source": [
    "import pickle as pk "
   ]
  },
  {
   "cell_type": "code",
   "execution_count": null,
   "id": "1d0852e7",
   "metadata": {},
   "outputs": [],
   "source": [
    "pk.dump(lr,open('My_pickle_model','wb'))"
   ]
  },
  {
   "cell_type": "code",
   "execution_count": null,
   "id": "a69d3f62",
   "metadata": {},
   "outputs": [],
   "source": [
    "model = pk.load(open('My_pickle_model','rb'))"
   ]
  },
  {
   "cell_type": "code",
   "execution_count": null,
   "id": "486722b3",
   "metadata": {},
   "outputs": [],
   "source": [
    "model.predict([[2300]])"
   ]
  },
  {
   "cell_type": "markdown",
   "id": "494bb41d",
   "metadata": {},
   "source": [
    "# Joblib"
   ]
  },
  {
   "cell_type": "code",
   "execution_count": null,
   "id": "c9259518",
   "metadata": {},
   "outputs": [],
   "source": [
    "import joblib as jb"
   ]
  },
  {
   "cell_type": "code",
   "execution_count": null,
   "id": "2156776b",
   "metadata": {},
   "outputs": [],
   "source": [
    "jb.dump(lr,'My_joblib_model')"
   ]
  },
  {
   "cell_type": "code",
   "execution_count": null,
   "id": "83ab35f7",
   "metadata": {},
   "outputs": [],
   "source": [
    "model2 = jb.load('My_joblib_model')"
   ]
  },
  {
   "cell_type": "code",
   "execution_count": null,
   "id": "733c4e17",
   "metadata": {},
   "outputs": [],
   "source": [
    "model2.predict([[2300]])"
   ]
  },
  {
   "cell_type": "code",
   "execution_count": null,
   "id": "08605e3d",
   "metadata": {},
   "outputs": [],
   "source": []
  }
 ],
 "metadata": {
  "kernelspec": {
   "display_name": "Python 3 (ipykernel)",
   "language": "python",
   "name": "python3"
  },
  "language_info": {
   "codemirror_mode": {
    "name": "ipython",
    "version": 3
   },
   "file_extension": ".py",
   "mimetype": "text/x-python",
   "name": "python",
   "nbconvert_exporter": "python",
   "pygments_lexer": "ipython3",
   "version": "3.8.12"
  }
 },
 "nbformat": 4,
 "nbformat_minor": 5
}
