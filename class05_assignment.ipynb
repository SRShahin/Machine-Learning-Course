{
 "cells": [
  {
   "cell_type": "code",
   "execution_count": 1,
   "id": "f607b09a",
   "metadata": {},
   "outputs": [],
   "source": [
    "import pandas as pd"
   ]
  },
  {
   "cell_type": "code",
   "execution_count": 2,
   "id": "43b2ede2",
   "metadata": {},
   "outputs": [
    {
     "data": {
      "text/html": [
       "<div>\n",
       "<style scoped>\n",
       "    .dataframe tbody tr th:only-of-type {\n",
       "        vertical-align: middle;\n",
       "    }\n",
       "\n",
       "    .dataframe tbody tr th {\n",
       "        vertical-align: top;\n",
       "    }\n",
       "\n",
       "    .dataframe thead th {\n",
       "        text-align: right;\n",
       "    }\n",
       "</style>\n",
       "<table border=\"1\" class=\"dataframe\">\n",
       "  <thead>\n",
       "    <tr style=\"text-align: right;\">\n",
       "      <th></th>\n",
       "      <th>Marketing Spend</th>\n",
       "      <th>Administration</th>\n",
       "      <th>Transport</th>\n",
       "      <th>Area</th>\n",
       "      <th>Profit</th>\n",
       "    </tr>\n",
       "  </thead>\n",
       "  <tbody>\n",
       "    <tr>\n",
       "      <th>0</th>\n",
       "      <td>114523.61</td>\n",
       "      <td>136897.80</td>\n",
       "      <td>471784.10</td>\n",
       "      <td>Dhaka</td>\n",
       "      <td>192261.83</td>\n",
       "    </tr>\n",
       "    <tr>\n",
       "      <th>1</th>\n",
       "      <td>162597.70</td>\n",
       "      <td>151377.59</td>\n",
       "      <td>443898.53</td>\n",
       "      <td>Ctg</td>\n",
       "      <td>191792.06</td>\n",
       "    </tr>\n",
       "    <tr>\n",
       "      <th>2</th>\n",
       "      <td>153441.51</td>\n",
       "      <td>101145.55</td>\n",
       "      <td>407934.54</td>\n",
       "      <td>Rangpur</td>\n",
       "      <td>191050.39</td>\n",
       "    </tr>\n",
       "    <tr>\n",
       "      <th>3</th>\n",
       "      <td>144372.41</td>\n",
       "      <td>118671.85</td>\n",
       "      <td>383199.62</td>\n",
       "      <td>Dhaka</td>\n",
       "      <td>182901.99</td>\n",
       "    </tr>\n",
       "    <tr>\n",
       "      <th>4</th>\n",
       "      <td>142107.34</td>\n",
       "      <td>91391.77</td>\n",
       "      <td>366168.42</td>\n",
       "      <td>Rangpur</td>\n",
       "      <td>166187.94</td>\n",
       "    </tr>\n",
       "    <tr>\n",
       "      <th>5</th>\n",
       "      <td>131876.90</td>\n",
       "      <td>99814.71</td>\n",
       "      <td>362861.36</td>\n",
       "      <td>Dhaka</td>\n",
       "      <td>156991.12</td>\n",
       "    </tr>\n",
       "    <tr>\n",
       "      <th>6</th>\n",
       "      <td>134615.46</td>\n",
       "      <td>147198.87</td>\n",
       "      <td>127716.82</td>\n",
       "      <td>Ctg</td>\n",
       "      <td>156122.51</td>\n",
       "    </tr>\n",
       "    <tr>\n",
       "      <th>7</th>\n",
       "      <td>130298.13</td>\n",
       "      <td>145530.06</td>\n",
       "      <td>323876.68</td>\n",
       "      <td>Rangpur</td>\n",
       "      <td>155752.60</td>\n",
       "    </tr>\n",
       "    <tr>\n",
       "      <th>8</th>\n",
       "      <td>120542.52</td>\n",
       "      <td>148718.95</td>\n",
       "      <td>311613.29</td>\n",
       "      <td>Dhaka</td>\n",
       "      <td>152211.77</td>\n",
       "    </tr>\n",
       "    <tr>\n",
       "      <th>9</th>\n",
       "      <td>123334.88</td>\n",
       "      <td>108679.17</td>\n",
       "      <td>304981.62</td>\n",
       "      <td>Ctg</td>\n",
       "      <td>149759.96</td>\n",
       "    </tr>\n",
       "  </tbody>\n",
       "</table>\n",
       "</div>"
      ],
      "text/plain": [
       "   Marketing Spend  Administration  Transport     Area     Profit\n",
       "0        114523.61       136897.80  471784.10    Dhaka  192261.83\n",
       "1        162597.70       151377.59  443898.53      Ctg  191792.06\n",
       "2        153441.51       101145.55  407934.54  Rangpur  191050.39\n",
       "3        144372.41       118671.85  383199.62    Dhaka  182901.99\n",
       "4        142107.34        91391.77  366168.42  Rangpur  166187.94\n",
       "5        131876.90        99814.71  362861.36    Dhaka  156991.12\n",
       "6        134615.46       147198.87  127716.82      Ctg  156122.51\n",
       "7        130298.13       145530.06  323876.68  Rangpur  155752.60\n",
       "8        120542.52       148718.95  311613.29    Dhaka  152211.77\n",
       "9        123334.88       108679.17  304981.62      Ctg  149759.96"
      ]
     },
     "execution_count": 2,
     "metadata": {},
     "output_type": "execute_result"
    }
   ],
   "source": [
    "df = pd.read_csv('agora.csv')\n",
    "df.head(10)"
   ]
  },
  {
   "cell_type": "code",
   "execution_count": 3,
   "id": "a6c7d4f8",
   "metadata": {},
   "outputs": [
    {
     "data": {
      "text/plain": [
       "(50, 5)"
      ]
     },
     "execution_count": 3,
     "metadata": {},
     "output_type": "execute_result"
    }
   ],
   "source": [
    "df.shape"
   ]
  },
  {
   "cell_type": "code",
   "execution_count": 4,
   "id": "5a2b4496",
   "metadata": {},
   "outputs": [
    {
     "data": {
      "text/plain": [
       "Marketing Spend    0\n",
       "Administration     0\n",
       "Transport          1\n",
       "Area               0\n",
       "Profit             0\n",
       "dtype: int64"
      ]
     },
     "execution_count": 4,
     "metadata": {},
     "output_type": "execute_result"
    }
   ],
   "source": [
    "df.isna().sum()         #df.isnull().sum() --> both are same"
   ]
  },
  {
   "cell_type": "code",
   "execution_count": 5,
   "id": "c87e7c62",
   "metadata": {},
   "outputs": [
    {
     "data": {
      "text/html": [
       "<div>\n",
       "<style scoped>\n",
       "    .dataframe tbody tr th:only-of-type {\n",
       "        vertical-align: middle;\n",
       "    }\n",
       "\n",
       "    .dataframe tbody tr th {\n",
       "        vertical-align: top;\n",
       "    }\n",
       "\n",
       "    .dataframe thead th {\n",
       "        text-align: right;\n",
       "    }\n",
       "</style>\n",
       "<table border=\"1\" class=\"dataframe\">\n",
       "  <thead>\n",
       "    <tr style=\"text-align: right;\">\n",
       "      <th></th>\n",
       "      <th>Marketing Spend</th>\n",
       "      <th>Administration</th>\n",
       "      <th>Transport</th>\n",
       "      <th>Area</th>\n",
       "      <th>Profit</th>\n",
       "    </tr>\n",
       "  </thead>\n",
       "  <tbody>\n",
       "    <tr>\n",
       "      <th>0</th>\n",
       "      <td>114523.61</td>\n",
       "      <td>136897.80</td>\n",
       "      <td>471784.10</td>\n",
       "      <td>Dhaka</td>\n",
       "      <td>192261.83</td>\n",
       "    </tr>\n",
       "    <tr>\n",
       "      <th>1</th>\n",
       "      <td>162597.70</td>\n",
       "      <td>151377.59</td>\n",
       "      <td>443898.53</td>\n",
       "      <td>Ctg</td>\n",
       "      <td>191792.06</td>\n",
       "    </tr>\n",
       "    <tr>\n",
       "      <th>2</th>\n",
       "      <td>153441.51</td>\n",
       "      <td>101145.55</td>\n",
       "      <td>407934.54</td>\n",
       "      <td>Rangpur</td>\n",
       "      <td>191050.39</td>\n",
       "    </tr>\n",
       "    <tr>\n",
       "      <th>3</th>\n",
       "      <td>144372.41</td>\n",
       "      <td>118671.85</td>\n",
       "      <td>383199.62</td>\n",
       "      <td>Dhaka</td>\n",
       "      <td>182901.99</td>\n",
       "    </tr>\n",
       "    <tr>\n",
       "      <th>4</th>\n",
       "      <td>142107.34</td>\n",
       "      <td>91391.77</td>\n",
       "      <td>366168.42</td>\n",
       "      <td>Rangpur</td>\n",
       "      <td>166187.94</td>\n",
       "    </tr>\n",
       "    <tr>\n",
       "      <th>5</th>\n",
       "      <td>131876.90</td>\n",
       "      <td>99814.71</td>\n",
       "      <td>362861.36</td>\n",
       "      <td>Dhaka</td>\n",
       "      <td>156991.12</td>\n",
       "    </tr>\n",
       "    <tr>\n",
       "      <th>6</th>\n",
       "      <td>134615.46</td>\n",
       "      <td>147198.87</td>\n",
       "      <td>127716.82</td>\n",
       "      <td>Ctg</td>\n",
       "      <td>156122.51</td>\n",
       "    </tr>\n",
       "    <tr>\n",
       "      <th>7</th>\n",
       "      <td>130298.13</td>\n",
       "      <td>145530.06</td>\n",
       "      <td>323876.68</td>\n",
       "      <td>Rangpur</td>\n",
       "      <td>155752.60</td>\n",
       "    </tr>\n",
       "    <tr>\n",
       "      <th>8</th>\n",
       "      <td>120542.52</td>\n",
       "      <td>148718.95</td>\n",
       "      <td>311613.29</td>\n",
       "      <td>Dhaka</td>\n",
       "      <td>152211.77</td>\n",
       "    </tr>\n",
       "    <tr>\n",
       "      <th>9</th>\n",
       "      <td>123334.88</td>\n",
       "      <td>108679.17</td>\n",
       "      <td>304981.62</td>\n",
       "      <td>Ctg</td>\n",
       "      <td>149759.96</td>\n",
       "    </tr>\n",
       "  </tbody>\n",
       "</table>\n",
       "</div>"
      ],
      "text/plain": [
       "   Marketing Spend  Administration  Transport     Area     Profit\n",
       "0        114523.61       136897.80  471784.10    Dhaka  192261.83\n",
       "1        162597.70       151377.59  443898.53      Ctg  191792.06\n",
       "2        153441.51       101145.55  407934.54  Rangpur  191050.39\n",
       "3        144372.41       118671.85  383199.62    Dhaka  182901.99\n",
       "4        142107.34        91391.77  366168.42  Rangpur  166187.94\n",
       "5        131876.90        99814.71  362861.36    Dhaka  156991.12\n",
       "6        134615.46       147198.87  127716.82      Ctg  156122.51\n",
       "7        130298.13       145530.06  323876.68  Rangpur  155752.60\n",
       "8        120542.52       148718.95  311613.29    Dhaka  152211.77\n",
       "9        123334.88       108679.17  304981.62      Ctg  149759.96"
      ]
     },
     "execution_count": 5,
     "metadata": {},
     "output_type": "execute_result"
    }
   ],
   "source": [
    "df2 = df.dropna()\n",
    "df2.head(10)"
   ]
  },
  {
   "cell_type": "code",
   "execution_count": 6,
   "id": "227e38f8",
   "metadata": {},
   "outputs": [
    {
     "data": {
      "text/plain": [
       "(49, 5)"
      ]
     },
     "execution_count": 6,
     "metadata": {},
     "output_type": "execute_result"
    }
   ],
   "source": [
    "df2.shape"
   ]
  },
  {
   "cell_type": "code",
   "execution_count": 7,
   "id": "db6ced53",
   "metadata": {},
   "outputs": [],
   "source": [
    "df3 = df2.drop(['Area'], axis=1)"
   ]
  },
  {
   "cell_type": "code",
   "execution_count": 8,
   "id": "bd0b0c25",
   "metadata": {},
   "outputs": [
    {
     "data": {
      "text/html": [
       "<div>\n",
       "<style scoped>\n",
       "    .dataframe tbody tr th:only-of-type {\n",
       "        vertical-align: middle;\n",
       "    }\n",
       "\n",
       "    .dataframe tbody tr th {\n",
       "        vertical-align: top;\n",
       "    }\n",
       "\n",
       "    .dataframe thead th {\n",
       "        text-align: right;\n",
       "    }\n",
       "</style>\n",
       "<table border=\"1\" class=\"dataframe\">\n",
       "  <thead>\n",
       "    <tr style=\"text-align: right;\">\n",
       "      <th></th>\n",
       "      <th>Marketing Spend</th>\n",
       "      <th>Administration</th>\n",
       "      <th>Transport</th>\n",
       "      <th>Profit</th>\n",
       "    </tr>\n",
       "  </thead>\n",
       "  <tbody>\n",
       "    <tr>\n",
       "      <th>0</th>\n",
       "      <td>114523.61</td>\n",
       "      <td>136897.80</td>\n",
       "      <td>471784.10</td>\n",
       "      <td>192261.83</td>\n",
       "    </tr>\n",
       "    <tr>\n",
       "      <th>1</th>\n",
       "      <td>162597.70</td>\n",
       "      <td>151377.59</td>\n",
       "      <td>443898.53</td>\n",
       "      <td>191792.06</td>\n",
       "    </tr>\n",
       "    <tr>\n",
       "      <th>2</th>\n",
       "      <td>153441.51</td>\n",
       "      <td>101145.55</td>\n",
       "      <td>407934.54</td>\n",
       "      <td>191050.39</td>\n",
       "    </tr>\n",
       "    <tr>\n",
       "      <th>3</th>\n",
       "      <td>144372.41</td>\n",
       "      <td>118671.85</td>\n",
       "      <td>383199.62</td>\n",
       "      <td>182901.99</td>\n",
       "    </tr>\n",
       "    <tr>\n",
       "      <th>4</th>\n",
       "      <td>142107.34</td>\n",
       "      <td>91391.77</td>\n",
       "      <td>366168.42</td>\n",
       "      <td>166187.94</td>\n",
       "    </tr>\n",
       "    <tr>\n",
       "      <th>5</th>\n",
       "      <td>131876.90</td>\n",
       "      <td>99814.71</td>\n",
       "      <td>362861.36</td>\n",
       "      <td>156991.12</td>\n",
       "    </tr>\n",
       "    <tr>\n",
       "      <th>6</th>\n",
       "      <td>134615.46</td>\n",
       "      <td>147198.87</td>\n",
       "      <td>127716.82</td>\n",
       "      <td>156122.51</td>\n",
       "    </tr>\n",
       "    <tr>\n",
       "      <th>7</th>\n",
       "      <td>130298.13</td>\n",
       "      <td>145530.06</td>\n",
       "      <td>323876.68</td>\n",
       "      <td>155752.60</td>\n",
       "    </tr>\n",
       "    <tr>\n",
       "      <th>8</th>\n",
       "      <td>120542.52</td>\n",
       "      <td>148718.95</td>\n",
       "      <td>311613.29</td>\n",
       "      <td>152211.77</td>\n",
       "    </tr>\n",
       "    <tr>\n",
       "      <th>9</th>\n",
       "      <td>123334.88</td>\n",
       "      <td>108679.17</td>\n",
       "      <td>304981.62</td>\n",
       "      <td>149759.96</td>\n",
       "    </tr>\n",
       "  </tbody>\n",
       "</table>\n",
       "</div>"
      ],
      "text/plain": [
       "   Marketing Spend  Administration  Transport     Profit\n",
       "0        114523.61       136897.80  471784.10  192261.83\n",
       "1        162597.70       151377.59  443898.53  191792.06\n",
       "2        153441.51       101145.55  407934.54  191050.39\n",
       "3        144372.41       118671.85  383199.62  182901.99\n",
       "4        142107.34        91391.77  366168.42  166187.94\n",
       "5        131876.90        99814.71  362861.36  156991.12\n",
       "6        134615.46       147198.87  127716.82  156122.51\n",
       "7        130298.13       145530.06  323876.68  155752.60\n",
       "8        120542.52       148718.95  311613.29  152211.77\n",
       "9        123334.88       108679.17  304981.62  149759.96"
      ]
     },
     "execution_count": 8,
     "metadata": {},
     "output_type": "execute_result"
    }
   ],
   "source": [
    "df3.head(10)"
   ]
  },
  {
   "cell_type": "code",
   "execution_count": 9,
   "id": "2fae38cf",
   "metadata": {},
   "outputs": [
    {
     "data": {
      "text/plain": [
       "(49, 4)"
      ]
     },
     "execution_count": 9,
     "metadata": {},
     "output_type": "execute_result"
    }
   ],
   "source": [
    "df3.shape"
   ]
  },
  {
   "cell_type": "markdown",
   "id": "49bd3532",
   "metadata": {},
   "source": [
    "# Feature Transformation"
   ]
  },
  {
   "cell_type": "markdown",
   "id": "1bdcc487",
   "metadata": {},
   "source": [
    "# Normalization / Min Max Scaler"
   ]
  },
  {
   "cell_type": "code",
   "execution_count": 10,
   "id": "eae08306",
   "metadata": {},
   "outputs": [
    {
     "data": {
      "text/html": [
       "<div>\n",
       "<style scoped>\n",
       "    .dataframe tbody tr th:only-of-type {\n",
       "        vertical-align: middle;\n",
       "    }\n",
       "\n",
       "    .dataframe tbody tr th {\n",
       "        vertical-align: top;\n",
       "    }\n",
       "\n",
       "    .dataframe thead th {\n",
       "        text-align: right;\n",
       "    }\n",
       "</style>\n",
       "<table border=\"1\" class=\"dataframe\">\n",
       "  <thead>\n",
       "    <tr style=\"text-align: right;\">\n",
       "      <th></th>\n",
       "      <th>Marketing Spend</th>\n",
       "      <th>Administration</th>\n",
       "      <th>Transport</th>\n",
       "      <th>Profit</th>\n",
       "    </tr>\n",
       "  </thead>\n",
       "  <tbody>\n",
       "    <tr>\n",
       "      <th>0</th>\n",
       "      <td>0.692617</td>\n",
       "      <td>0.651744</td>\n",
       "      <td>1.000000</td>\n",
       "      <td>1.000000</td>\n",
       "    </tr>\n",
       "    <tr>\n",
       "      <th>1</th>\n",
       "      <td>0.983359</td>\n",
       "      <td>0.761972</td>\n",
       "      <td>0.940893</td>\n",
       "      <td>0.997355</td>\n",
       "    </tr>\n",
       "    <tr>\n",
       "      <th>2</th>\n",
       "      <td>0.927985</td>\n",
       "      <td>0.379579</td>\n",
       "      <td>0.864664</td>\n",
       "      <td>0.993178</td>\n",
       "    </tr>\n",
       "    <tr>\n",
       "      <th>3</th>\n",
       "      <td>0.873136</td>\n",
       "      <td>0.512998</td>\n",
       "      <td>0.812235</td>\n",
       "      <td>0.947292</td>\n",
       "    </tr>\n",
       "    <tr>\n",
       "      <th>4</th>\n",
       "      <td>0.859438</td>\n",
       "      <td>0.305328</td>\n",
       "      <td>0.776136</td>\n",
       "      <td>0.853171</td>\n",
       "    </tr>\n",
       "    <tr>\n",
       "      <th>5</th>\n",
       "      <td>0.797566</td>\n",
       "      <td>0.369448</td>\n",
       "      <td>0.769126</td>\n",
       "      <td>0.801382</td>\n",
       "    </tr>\n",
       "    <tr>\n",
       "      <th>6</th>\n",
       "      <td>0.814128</td>\n",
       "      <td>0.730161</td>\n",
       "      <td>0.270710</td>\n",
       "      <td>0.796490</td>\n",
       "    </tr>\n",
       "    <tr>\n",
       "      <th>7</th>\n",
       "      <td>0.788018</td>\n",
       "      <td>0.717457</td>\n",
       "      <td>0.686493</td>\n",
       "      <td>0.794407</td>\n",
       "    </tr>\n",
       "    <tr>\n",
       "      <th>8</th>\n",
       "      <td>0.729018</td>\n",
       "      <td>0.741733</td>\n",
       "      <td>0.660500</td>\n",
       "      <td>0.774468</td>\n",
       "    </tr>\n",
       "    <tr>\n",
       "      <th>9</th>\n",
       "      <td>0.745906</td>\n",
       "      <td>0.436929</td>\n",
       "      <td>0.646443</td>\n",
       "      <td>0.760661</td>\n",
       "    </tr>\n",
       "    <tr>\n",
       "      <th>10</th>\n",
       "      <td>0.616351</td>\n",
       "      <td>0.451506</td>\n",
       "      <td>0.485733</td>\n",
       "      <td>0.740175</td>\n",
       "    </tr>\n",
       "    <tr>\n",
       "      <th>11</th>\n",
       "      <td>0.608845</td>\n",
       "      <td>0.308364</td>\n",
       "      <td>0.529362</td>\n",
       "      <td>0.729686</td>\n",
       "    </tr>\n",
       "    <tr>\n",
       "      <th>12</th>\n",
       "      <td>0.567670</td>\n",
       "      <td>0.578836</td>\n",
       "      <td>0.529563</td>\n",
       "      <td>0.714629</td>\n",
       "    </tr>\n",
       "    <tr>\n",
       "      <th>13</th>\n",
       "      <td>0.556352</td>\n",
       "      <td>0.641066</td>\n",
       "      <td>0.535552</td>\n",
       "      <td>0.673644</td>\n",
       "    </tr>\n",
       "    <tr>\n",
       "      <th>14</th>\n",
       "      <td>0.725394</td>\n",
       "      <td>0.801327</td>\n",
       "      <td>0.543708</td>\n",
       "      <td>0.664044</td>\n",
       "    </tr>\n",
       "    <tr>\n",
       "      <th>15</th>\n",
       "      <td>1.000000</td>\n",
       "      <td>0.543030</td>\n",
       "      <td>0.554864</td>\n",
       "      <td>0.648921</td>\n",
       "    </tr>\n",
       "    <tr>\n",
       "      <th>16</th>\n",
       "      <td>0.471808</td>\n",
       "      <td>0.535270</td>\n",
       "      <td>0.560312</td>\n",
       "      <td>0.632454</td>\n",
       "    </tr>\n",
       "    <tr>\n",
       "      <th>17</th>\n",
       "      <td>0.572468</td>\n",
       "      <td>0.714013</td>\n",
       "      <td>0.598948</td>\n",
       "      <td>0.623317</td>\n",
       "    </tr>\n",
       "    <tr>\n",
       "      <th>18</th>\n",
       "      <td>0.554881</td>\n",
       "      <td>0.478772</td>\n",
       "      <td>0.625116</td>\n",
       "      <td>0.617103</td>\n",
       "    </tr>\n",
       "    <tr>\n",
       "      <th>20</th>\n",
       "      <td>0.461169</td>\n",
       "      <td>0.476424</td>\n",
       "      <td>0.633053</td>\n",
       "      <td>0.584482</td>\n",
       "    </tr>\n",
       "  </tbody>\n",
       "</table>\n",
       "</div>"
      ],
      "text/plain": [
       "    Marketing Spend  Administration  Transport    Profit\n",
       "0          0.692617        0.651744   1.000000  1.000000\n",
       "1          0.983359        0.761972   0.940893  0.997355\n",
       "2          0.927985        0.379579   0.864664  0.993178\n",
       "3          0.873136        0.512998   0.812235  0.947292\n",
       "4          0.859438        0.305328   0.776136  0.853171\n",
       "5          0.797566        0.369448   0.769126  0.801382\n",
       "6          0.814128        0.730161   0.270710  0.796490\n",
       "7          0.788018        0.717457   0.686493  0.794407\n",
       "8          0.729018        0.741733   0.660500  0.774468\n",
       "9          0.745906        0.436929   0.646443  0.760661\n",
       "10         0.616351        0.451506   0.485733  0.740175\n",
       "11         0.608845        0.308364   0.529362  0.729686\n",
       "12         0.567670        0.578836   0.529563  0.714629\n",
       "13         0.556352        0.641066   0.535552  0.673644\n",
       "14         0.725394        0.801327   0.543708  0.664044\n",
       "15         1.000000        0.543030   0.554864  0.648921\n",
       "16         0.471808        0.535270   0.560312  0.632454\n",
       "17         0.572468        0.714013   0.598948  0.623317\n",
       "18         0.554881        0.478772   0.625116  0.617103\n",
       "20         0.461169        0.476424   0.633053  0.584482"
      ]
     },
     "execution_count": 10,
     "metadata": {},
     "output_type": "execute_result"
    }
   ],
   "source": [
    "minmax_normalized_df=(df3-df3.min())/(df3.max()-df3.min())     # min max normalization using equation\n",
    "minmax_normalized_df.head(20)"
   ]
  },
  {
   "cell_type": "code",
   "execution_count": 11,
   "id": "937c8788",
   "metadata": {},
   "outputs": [],
   "source": [
    "from sklearn.preprocessing import MinMaxScaler"
   ]
  },
  {
   "cell_type": "code",
   "execution_count": 12,
   "id": "a96df3b6",
   "metadata": {},
   "outputs": [],
   "source": [
    "min_max_model = MinMaxScaler()"
   ]
  },
  {
   "cell_type": "code",
   "execution_count": 13,
   "id": "c67dcbf7",
   "metadata": {},
   "outputs": [],
   "source": [
    "mn_df = df3.copy()"
   ]
  },
  {
   "cell_type": "code",
   "execution_count": 14,
   "id": "9be6676b",
   "metadata": {},
   "outputs": [
    {
     "data": {
      "text/plain": [
       "MinMaxScaler()"
      ]
     },
     "execution_count": 14,
     "metadata": {},
     "output_type": "execute_result"
    }
   ],
   "source": [
    "marketing_spend_fit = min_max_model.fit(mn_df[['Marketing Spend']])\n",
    "marketing_spend_fit"
   ]
  },
  {
   "cell_type": "code",
   "execution_count": 16,
   "id": "ef701794",
   "metadata": {},
   "outputs": [
    {
     "data": {
      "text/html": [
       "<div>\n",
       "<style scoped>\n",
       "    .dataframe tbody tr th:only-of-type {\n",
       "        vertical-align: middle;\n",
       "    }\n",
       "\n",
       "    .dataframe tbody tr th {\n",
       "        vertical-align: top;\n",
       "    }\n",
       "\n",
       "    .dataframe thead th {\n",
       "        text-align: right;\n",
       "    }\n",
       "</style>\n",
       "<table border=\"1\" class=\"dataframe\">\n",
       "  <thead>\n",
       "    <tr style=\"text-align: right;\">\n",
       "      <th></th>\n",
       "      <th>Marketing Spend</th>\n",
       "      <th>Administration</th>\n",
       "      <th>Transport</th>\n",
       "      <th>Profit</th>\n",
       "    </tr>\n",
       "  </thead>\n",
       "  <tbody>\n",
       "    <tr>\n",
       "      <th>0</th>\n",
       "      <td>114523.61</td>\n",
       "      <td>136897.80</td>\n",
       "      <td>471784.10</td>\n",
       "      <td>192261.83</td>\n",
       "    </tr>\n",
       "    <tr>\n",
       "      <th>1</th>\n",
       "      <td>162597.70</td>\n",
       "      <td>151377.59</td>\n",
       "      <td>443898.53</td>\n",
       "      <td>191792.06</td>\n",
       "    </tr>\n",
       "    <tr>\n",
       "      <th>2</th>\n",
       "      <td>153441.51</td>\n",
       "      <td>101145.55</td>\n",
       "      <td>407934.54</td>\n",
       "      <td>191050.39</td>\n",
       "    </tr>\n",
       "    <tr>\n",
       "      <th>3</th>\n",
       "      <td>144372.41</td>\n",
       "      <td>118671.85</td>\n",
       "      <td>383199.62</td>\n",
       "      <td>182901.99</td>\n",
       "    </tr>\n",
       "    <tr>\n",
       "      <th>4</th>\n",
       "      <td>142107.34</td>\n",
       "      <td>91391.77</td>\n",
       "      <td>366168.42</td>\n",
       "      <td>166187.94</td>\n",
       "    </tr>\n",
       "  </tbody>\n",
       "</table>\n",
       "</div>"
      ],
      "text/plain": [
       "   Marketing Spend  Administration  Transport     Profit\n",
       "0        114523.61       136897.80  471784.10  192261.83\n",
       "1        162597.70       151377.59  443898.53  191792.06\n",
       "2        153441.51       101145.55  407934.54  191050.39\n",
       "3        144372.41       118671.85  383199.62  182901.99\n",
       "4        142107.34        91391.77  366168.42  166187.94"
      ]
     },
     "execution_count": 16,
     "metadata": {},
     "output_type": "execute_result"
    }
   ],
   "source": [
    "mn_df.head()"
   ]
  },
  {
   "cell_type": "code",
   "execution_count": 17,
   "id": "8774f380",
   "metadata": {},
   "outputs": [],
   "source": [
    "mn_df['Marketing Spend'] = min_max_model.transform(mn_df[['Marketing Spend']])"
   ]
  },
  {
   "cell_type": "code",
   "execution_count": 18,
   "id": "61e7454c",
   "metadata": {},
   "outputs": [
    {
     "data": {
      "text/html": [
       "<div>\n",
       "<style scoped>\n",
       "    .dataframe tbody tr th:only-of-type {\n",
       "        vertical-align: middle;\n",
       "    }\n",
       "\n",
       "    .dataframe tbody tr th {\n",
       "        vertical-align: top;\n",
       "    }\n",
       "\n",
       "    .dataframe thead th {\n",
       "        text-align: right;\n",
       "    }\n",
       "</style>\n",
       "<table border=\"1\" class=\"dataframe\">\n",
       "  <thead>\n",
       "    <tr style=\"text-align: right;\">\n",
       "      <th></th>\n",
       "      <th>Marketing Spend</th>\n",
       "      <th>Administration</th>\n",
       "      <th>Transport</th>\n",
       "      <th>Profit</th>\n",
       "    </tr>\n",
       "  </thead>\n",
       "  <tbody>\n",
       "    <tr>\n",
       "      <th>0</th>\n",
       "      <td>0.692617</td>\n",
       "      <td>136897.80</td>\n",
       "      <td>471784.10</td>\n",
       "      <td>192261.83</td>\n",
       "    </tr>\n",
       "    <tr>\n",
       "      <th>1</th>\n",
       "      <td>0.983359</td>\n",
       "      <td>151377.59</td>\n",
       "      <td>443898.53</td>\n",
       "      <td>191792.06</td>\n",
       "    </tr>\n",
       "    <tr>\n",
       "      <th>2</th>\n",
       "      <td>0.927985</td>\n",
       "      <td>101145.55</td>\n",
       "      <td>407934.54</td>\n",
       "      <td>191050.39</td>\n",
       "    </tr>\n",
       "    <tr>\n",
       "      <th>3</th>\n",
       "      <td>0.873136</td>\n",
       "      <td>118671.85</td>\n",
       "      <td>383199.62</td>\n",
       "      <td>182901.99</td>\n",
       "    </tr>\n",
       "    <tr>\n",
       "      <th>4</th>\n",
       "      <td>0.859438</td>\n",
       "      <td>91391.77</td>\n",
       "      <td>366168.42</td>\n",
       "      <td>166187.94</td>\n",
       "    </tr>\n",
       "  </tbody>\n",
       "</table>\n",
       "</div>"
      ],
      "text/plain": [
       "   Marketing Spend  Administration  Transport     Profit\n",
       "0         0.692617       136897.80  471784.10  192261.83\n",
       "1         0.983359       151377.59  443898.53  191792.06\n",
       "2         0.927985       101145.55  407934.54  191050.39\n",
       "3         0.873136       118671.85  383199.62  182901.99\n",
       "4         0.859438        91391.77  366168.42  166187.94"
      ]
     },
     "execution_count": 18,
     "metadata": {},
     "output_type": "execute_result"
    }
   ],
   "source": [
    "mn_df.head()"
   ]
  },
  {
   "cell_type": "code",
   "execution_count": 19,
   "id": "68271524",
   "metadata": {},
   "outputs": [
    {
     "data": {
      "text/plain": [
       "MinMaxScaler()"
      ]
     },
     "execution_count": 19,
     "metadata": {},
     "output_type": "execute_result"
    }
   ],
   "source": [
    "mn_df_fit = min_max_model.fit(mn_df)\n",
    "mn_df_fit"
   ]
  },
  {
   "cell_type": "code",
   "execution_count": 20,
   "id": "2a73db10",
   "metadata": {},
   "outputs": [],
   "source": [
    "mn_df_trans = min_max_model.transform(mn_df)"
   ]
  },
  {
   "cell_type": "code",
   "execution_count": 21,
   "id": "5a037b53",
   "metadata": {},
   "outputs": [
    {
     "data": {
      "text/plain": [
       "array([[0.69261666, 0.65174393, 1.        , 1.        ],\n",
       "       [0.98335946, 0.76197173, 0.94089337, 0.99735461],\n",
       "       [0.92798459, 0.37957895, 0.8646636 , 0.99317808],\n",
       "       [0.87313643, 0.51299839, 0.81223513, 0.94729239],\n",
       "       [0.85943772, 0.30532804, 0.77613557, 0.85317138],\n",
       "       [0.797566  , 0.3694479 , 0.76912588, 0.80138177],\n",
       "       [0.81412828, 0.73016111, 0.27071031, 0.79649041],\n",
       "       [0.7880179 , 0.71745725, 0.68649342, 0.79440736],\n",
       "       [0.72901786, 0.74173276, 0.66049977, 0.77446805],\n",
       "       [0.74590551, 0.43692884, 0.64644319, 0.7606613 ],\n",
       "       [0.61635061, 0.45150637, 0.48573267, 0.74017475],\n",
       "       [0.60884455, 0.30836422, 0.52936195, 0.72968626],\n",
       "       [0.56766982, 0.57883556, 0.52956308, 0.71462897],\n",
       "       [0.55635219, 0.64106561, 0.53555202, 0.67364377],\n",
       "       [0.72539353, 0.8013272 , 0.54370828, 0.66404417],\n",
       "       [1.        , 0.54302973, 0.55486446, 0.64892083],\n",
       "       [0.47180821, 0.53527036, 0.56031151, 0.63245443],\n",
       "       [0.57246821, 0.71401273, 0.59894835, 0.62331739],\n",
       "       [0.55488118, 0.47877201, 0.62511553, 0.61710347],\n",
       "       [0.46116861, 0.47642362, 0.63305328, 0.58448237],\n",
       "       [0.47408436, 0.78021012, 0.63532724, 0.54415692],\n",
       "       [0.4475048 , 0.54429273, 0.64291963, 0.53874658],\n",
       "       [0.40842369, 0.4146383 , 0.64599195, 0.52963376],\n",
       "       [0.46594728, 0.3653876 , 0.29796428, 0.52860915],\n",
       "       [0.39107967, 0.67195793, 0.29242745, 0.52214616],\n",
       "       [0.45557444, 0.70684477, 0.28413435, 0.51273747],\n",
       "       [0.43609283, 0.58297807, 0.74861321, 0.50865352],\n",
       "       [0.39946683, 1.        , 0.25042853, 0.49893437],\n",
       "       [0.39676926, 0.77456642, 0.22709197, 0.48610784],\n",
       "       [0.37493063, 0.48992809, 0.19316302, 0.48009902],\n",
       "       [0.36974101, 0.77205322, 0.18698856, 0.46627976],\n",
       "       [0.38348453, 0.5932935 , 0.09768292, 0.46596599],\n",
       "       [0.33561668, 0.39413365, 0.45494286, 0.46231175],\n",
       "       [0.2807759 , 0.81005496, 0.44680961, 0.46193942],\n",
       "       [0.2782839 , 0.25703165, 0.43561799, 0.4606257 ],\n",
       "       [0.17335288, 0.57682456, 0.42631115, 0.42812595],\n",
       "       [0.26652654, 0.        , 0.41762624, 0.42385155],\n",
       "       [0.12234465, 0.11163611, 0.39269043, 0.37474659],\n",
       "       [0.23319442, 0.24130912, 0.3709309 , 0.37348913],\n",
       "       [0.17390063, 0.51204073, 0.36626005, 0.35791393],\n",
       "       [0.16869099, 0.25446874, 0.34861436, 0.3554301 ],\n",
       "       [0.14297577, 0.34185188, 0.31370517, 0.3199513 ],\n",
       "       [0.09377566, 0.57930693, 0.07531871, 0.31015569],\n",
       "       [0.13412668, 0.78807166, 0.06005866, 0.28448478],\n",
       "       [0.0060492 , 0.5547241 , 0.0040356 , 0.28294041],\n",
       "       [0.00795565, 0.49125975, 0.62976785, 0.19602019],\n",
       "       [0.        , 0.64054682, 0.        , 0.15698988],\n",
       "       [0.00327821, 0.00350184, 0.        , 0.11821128],\n",
       "       [0.        , 0.50014806, 0.09574943, 0.        ]])"
      ]
     },
     "execution_count": 21,
     "metadata": {},
     "output_type": "execute_result"
    }
   ],
   "source": [
    "mn_df_trans"
   ]
  },
  {
   "cell_type": "markdown",
   "id": "5d69e864",
   "metadata": {},
   "source": [
    "# Standardization"
   ]
  },
  {
   "cell_type": "code",
   "execution_count": 22,
   "id": "f6f48a12",
   "metadata": {},
   "outputs": [
    {
     "data": {
      "text/html": [
       "<div>\n",
       "<style scoped>\n",
       "    .dataframe tbody tr th:only-of-type {\n",
       "        vertical-align: middle;\n",
       "    }\n",
       "\n",
       "    .dataframe tbody tr th {\n",
       "        vertical-align: top;\n",
       "    }\n",
       "\n",
       "    .dataframe thead th {\n",
       "        text-align: right;\n",
       "    }\n",
       "</style>\n",
       "<table border=\"1\" class=\"dataframe\">\n",
       "  <thead>\n",
       "    <tr style=\"text-align: right;\">\n",
       "      <th></th>\n",
       "      <th>Marketing Spend</th>\n",
       "      <th>Administration</th>\n",
       "      <th>Transport</th>\n",
       "      <th>Profit</th>\n",
       "    </tr>\n",
       "  </thead>\n",
       "  <tbody>\n",
       "    <tr>\n",
       "      <th>0</th>\n",
       "      <td>0.886066</td>\n",
       "      <td>0.580641</td>\n",
       "      <td>2.143079</td>\n",
       "      <td>1.977432</td>\n",
       "    </tr>\n",
       "    <tr>\n",
       "      <th>1</th>\n",
       "      <td>1.923465</td>\n",
       "      <td>1.099316</td>\n",
       "      <td>1.910049</td>\n",
       "      <td>1.965888</td>\n",
       "    </tr>\n",
       "    <tr>\n",
       "      <th>2</th>\n",
       "      <td>1.725882</td>\n",
       "      <td>-0.700027</td>\n",
       "      <td>1.609511</td>\n",
       "      <td>1.947662</td>\n",
       "    </tr>\n",
       "    <tr>\n",
       "      <th>3</th>\n",
       "      <td>1.530178</td>\n",
       "      <td>-0.072224</td>\n",
       "      <td>1.402811</td>\n",
       "      <td>1.747425</td>\n",
       "    </tr>\n",
       "    <tr>\n",
       "      <th>4</th>\n",
       "      <td>1.481300</td>\n",
       "      <td>-1.049414</td>\n",
       "      <td>1.260487</td>\n",
       "      <td>1.336696</td>\n",
       "    </tr>\n",
       "  </tbody>\n",
       "</table>\n",
       "</div>"
      ],
      "text/plain": [
       "   Marketing Spend  Administration  Transport    Profit\n",
       "0         0.886066        0.580641   2.143079  1.977432\n",
       "1         1.923465        1.099316   1.910049  1.965888\n",
       "2         1.725882       -0.700027   1.609511  1.947662\n",
       "3         1.530178       -0.072224   1.402811  1.747425\n",
       "4         1.481300       -1.049414   1.260487  1.336696"
      ]
     },
     "execution_count": 22,
     "metadata": {},
     "output_type": "execute_result"
    }
   ],
   "source": [
    "stand_df = (df3-df3.mean())/df3.std()                # Standardization using equation\n",
    "stand_df.head()"
   ]
  },
  {
   "cell_type": "code",
   "execution_count": 23,
   "id": "32cec3dd",
   "metadata": {},
   "outputs": [],
   "source": [
    "from sklearn.preprocessing import StandardScaler"
   ]
  },
  {
   "cell_type": "code",
   "execution_count": 24,
   "id": "3abe9c10",
   "metadata": {},
   "outputs": [
    {
     "data": {
      "text/plain": [
       "StandardScaler()"
      ]
     },
     "execution_count": 24,
     "metadata": {},
     "output_type": "execute_result"
    }
   ],
   "source": [
    "stand_model = StandardScaler()\n",
    "stand_model"
   ]
  },
  {
   "cell_type": "code",
   "execution_count": 25,
   "id": "4fc68248",
   "metadata": {},
   "outputs": [
    {
     "data": {
      "text/plain": [
       "StandardScaler()"
      ]
     },
     "execution_count": 25,
     "metadata": {},
     "output_type": "execute_result"
    }
   ],
   "source": [
    "single_data_fit = stand_model.fit(df3[['Administration']])               # model fit for one column\n",
    "single_data_fit"
   ]
  },
  {
   "cell_type": "code",
   "execution_count": 26,
   "id": "411e738f",
   "metadata": {},
   "outputs": [
    {
     "data": {
      "text/plain": [
       "array([[ 0.58665825],\n",
       "       [ 1.11070858],\n",
       "       [-0.70728168],\n",
       "       [-0.07297253],\n",
       "       [-1.06028898],\n",
       "       [-0.75544723],\n",
       "       [ 0.95947299],\n",
       "       [ 0.89907568],\n",
       "       [ 1.01448749],\n",
       "       [-0.43462606],\n",
       "       [-0.36532085],\n",
       "       [-1.04585423],\n",
       "       [ 0.24003374],\n",
       "       [ 0.53589086],\n",
       "       [ 1.29781427],\n",
       "       [ 0.06980394],\n",
       "       [ 0.03291396],\n",
       "       [ 0.88269959],\n",
       "       [-0.23569324],\n",
       "       [-0.24685806],\n",
       "       [ 1.19741845],\n",
       "       [ 0.07580853],\n",
       "       [-0.54060085],\n",
       "       [-0.77475088],\n",
       "       [ 0.68276063],\n",
       "       [ 0.84862135],\n",
       "       [ 0.25972826],\n",
       "       [ 2.24235414],\n",
       "       [ 1.1705869 ],\n",
       "       [-0.18265445],\n",
       "       [ 1.15863853],\n",
       "       [ 0.30877038],\n",
       "       [-0.63808504],\n",
       "       [ 1.33930822],\n",
       "       [-1.289902  ],\n",
       "       [ 0.23047294],\n",
       "       [-2.51189434],\n",
       "       [-1.98114852],\n",
       "       [-1.36465083],\n",
       "       [-0.07752546],\n",
       "       [-1.30208671],\n",
       "       [-0.88664557],\n",
       "       [ 0.24227474],\n",
       "       [ 1.23479414],\n",
       "       [ 0.12540186],\n",
       "       [-0.17632341],\n",
       "       [ 0.53342439],\n",
       "       [-2.49524573],\n",
       "       [-0.13406617]])"
      ]
     },
     "execution_count": 26,
     "metadata": {},
     "output_type": "execute_result"
    }
   ],
   "source": [
    "stand_single_data = stand_model.transform(df3[['Administration']])      # standardization for one column\n",
    "stand_single_data"
   ]
  },
  {
   "cell_type": "code",
   "execution_count": 27,
   "id": "fba7e377",
   "metadata": {},
   "outputs": [
    {
     "data": {
      "text/plain": [
       "StandardScaler()"
      ]
     },
     "execution_count": 27,
     "metadata": {},
     "output_type": "execute_result"
    }
   ],
   "source": [
    "stand_all_data_fit = stand_model.fit(df3)            # fit model for all data \n",
    "stand_all_data_fit"
   ]
  },
  {
   "cell_type": "code",
   "execution_count": 28,
   "id": "2d10c5e3",
   "metadata": {},
   "outputs": [
    {
     "data": {
      "text/plain": [
       "array([[ 0.89524784,  0.58665825,  2.1652875 ,  1.99792421],\n",
       "       [ 1.94339766,  1.11070858,  1.92984309,  1.98626051],\n",
       "       [ 1.74376708, -0.70728168,  1.62619068,  1.96784593],\n",
       "       [ 1.54603529, -0.07297253,  1.41734795,  1.76553309],\n",
       "       [ 1.49665042, -1.06028898,  1.27354954,  1.35054769],\n",
       "       [ 1.27359817, -0.75544723,  1.24562725,  1.12220412],\n",
       "       [ 1.33330645,  0.95947299, -0.73975326,  1.1006378 ],\n",
       "       [ 1.23917657,  0.89907568,  0.91647045,  1.09145348],\n",
       "       [ 1.02647694,  1.01448749,  0.81292778,  1.00353985],\n",
       "       [ 1.08735821, -0.43462606,  0.75693503,  0.942665  ],\n",
       "       [ 0.62030297, -0.36532085,  0.11676333,  0.85233854],\n",
       "       [ 0.59324308, -1.04585423,  0.29055549,  0.80609415],\n",
       "       [ 0.44480503,  0.24003374,  0.29135667,  0.73970562],\n",
       "       [ 0.40400414,  0.53589086,  0.31521294,  0.55899931],\n",
       "       [ 1.01341096,  1.29781427,  0.34770243,  0.51667411],\n",
       "       [ 2.00338807,  0.06980394,  0.39214179,  0.44999434],\n",
       "       [ 0.09921668,  0.03291396,  0.41383946,  0.37739297],\n",
       "       [ 0.46210359,  0.88269959,  0.56774486,  0.33710718],\n",
       "       [ 0.39870104, -0.23569324,  0.67197878,  0.30970964],\n",
       "       [ 0.0608601 , -0.24685806,  0.70359785,  0.16588116],\n",
       "       [ 0.10742238,  1.19741845,  0.71265592, -0.01191624],\n",
       "       [ 0.01160103,  0.07580853,  0.74289933, -0.03577075],\n",
       "       [-0.12928932, -0.54060085,  0.75513755, -0.07594978],\n",
       "       [ 0.07808758, -0.77475088, -0.63119023, -0.08046733],\n",
       "       [-0.19181583,  0.68276063, -0.65324557, -0.10896304],\n",
       "       [ 0.04069273,  0.84862135, -0.68628014, -0.15044656],\n",
       "       [-0.02953998,  0.25972826,  1.16391743, -0.16845296],\n",
       "       [-0.16157949,  2.24235414, -0.82054336, -0.21130527],\n",
       "       [-0.17130441,  1.1705869 , -0.91350185, -0.26785822],\n",
       "       [-0.25003433, -0.18265445, -1.04865389, -0.29435151],\n",
       "       [-0.26874331,  1.15863853, -1.07324912, -0.35528148],\n",
       "       [-0.21919688,  0.30877038, -1.42898775, -0.35666493],\n",
       "       [-0.39176409, -0.63808504, -0.00588428, -0.37277666],\n",
       "       [-0.58946927,  1.33930822, -0.03828215, -0.37441833],\n",
       "       [-0.59845312, -1.289902  , -0.08286268, -0.38021058],\n",
       "       [-0.97673738,  0.23047294, -0.11993541, -0.523504  ],\n",
       "       [-0.64083929, -2.51189434, -0.15453072, -0.5423501 ],\n",
       "       [-1.16062591, -1.98114852, -0.25385963, -0.75885692],\n",
       "       [-0.76100412, -1.36465083, -0.34053619, -0.76440114],\n",
       "       [-0.9747627 , -0.07752546, -0.35914195, -0.83307314],\n",
       "       [-0.99354386, -1.30208671, -0.42943154, -0.84402451],\n",
       "       [-1.08624915, -0.88664557, -0.56848824, -1.00045273],\n",
       "       [-1.26361929,  0.24227474, -1.518073  , -1.04364222],\n",
       "       [-1.11815079,  1.23479414, -1.57885964, -1.15682683],\n",
       "       [-1.57987983,  0.12540186, -1.802021  , -1.16363605],\n",
       "       [-1.57300693, -0.17632341,  0.69051075, -1.5468727 ],\n",
       "       [-1.60168764,  0.53342439, -1.81809633, -1.71895978],\n",
       "       [-1.58986943, -2.49524573, -1.81809633, -1.88993703],\n",
       "       [-1.60168764, -0.13406617, -1.43668959, -2.4111379 ]])"
      ]
     },
     "execution_count": 28,
     "metadata": {},
     "output_type": "execute_result"
    }
   ],
   "source": [
    "stand_all_data = stand_model.transform(df3)      # standardization for all column\n",
    "stand_all_data"
   ]
  },
  {
   "cell_type": "code",
   "execution_count": 29,
   "id": "12784cec",
   "metadata": {},
   "outputs": [
    {
     "data": {
      "text/plain": [
       "array([[ 0.89524784,  0.58665825,  2.1652875 ,  1.99792421],\n",
       "       [ 1.94339766,  1.11070858,  1.92984309,  1.98626051],\n",
       "       [ 1.74376708, -0.70728168,  1.62619068,  1.96784593],\n",
       "       [ 1.54603529, -0.07297253,  1.41734795,  1.76553309],\n",
       "       [ 1.49665042, -1.06028898,  1.27354954,  1.35054769],\n",
       "       [ 1.27359817, -0.75544723,  1.24562725,  1.12220412],\n",
       "       [ 1.33330645,  0.95947299, -0.73975326,  1.1006378 ],\n",
       "       [ 1.23917657,  0.89907568,  0.91647045,  1.09145348],\n",
       "       [ 1.02647694,  1.01448749,  0.81292778,  1.00353985],\n",
       "       [ 1.08735821, -0.43462606,  0.75693503,  0.942665  ],\n",
       "       [ 0.62030297, -0.36532085,  0.11676333,  0.85233854],\n",
       "       [ 0.59324308, -1.04585423,  0.29055549,  0.80609415],\n",
       "       [ 0.44480503,  0.24003374,  0.29135667,  0.73970562],\n",
       "       [ 0.40400414,  0.53589086,  0.31521294,  0.55899931],\n",
       "       [ 1.01341096,  1.29781427,  0.34770243,  0.51667411],\n",
       "       [ 2.00338807,  0.06980394,  0.39214179,  0.44999434],\n",
       "       [ 0.09921668,  0.03291396,  0.41383946,  0.37739297],\n",
       "       [ 0.46210359,  0.88269959,  0.56774486,  0.33710718],\n",
       "       [ 0.39870104, -0.23569324,  0.67197878,  0.30970964],\n",
       "       [ 0.0608601 , -0.24685806,  0.70359785,  0.16588116],\n",
       "       [ 0.10742238,  1.19741845,  0.71265592, -0.01191624],\n",
       "       [ 0.01160103,  0.07580853,  0.74289933, -0.03577075],\n",
       "       [-0.12928932, -0.54060085,  0.75513755, -0.07594978],\n",
       "       [ 0.07808758, -0.77475088, -0.63119023, -0.08046733],\n",
       "       [-0.19181583,  0.68276063, -0.65324557, -0.10896304],\n",
       "       [ 0.04069273,  0.84862135, -0.68628014, -0.15044656],\n",
       "       [-0.02953998,  0.25972826,  1.16391743, -0.16845296],\n",
       "       [-0.16157949,  2.24235414, -0.82054336, -0.21130527],\n",
       "       [-0.17130441,  1.1705869 , -0.91350185, -0.26785822],\n",
       "       [-0.25003433, -0.18265445, -1.04865389, -0.29435151],\n",
       "       [-0.26874331,  1.15863853, -1.07324912, -0.35528148],\n",
       "       [-0.21919688,  0.30877038, -1.42898775, -0.35666493],\n",
       "       [-0.39176409, -0.63808504, -0.00588428, -0.37277666],\n",
       "       [-0.58946927,  1.33930822, -0.03828215, -0.37441833],\n",
       "       [-0.59845312, -1.289902  , -0.08286268, -0.38021058],\n",
       "       [-0.97673738,  0.23047294, -0.11993541, -0.523504  ],\n",
       "       [-0.64083929, -2.51189434, -0.15453072, -0.5423501 ],\n",
       "       [-1.16062591, -1.98114852, -0.25385963, -0.75885692],\n",
       "       [-0.76100412, -1.36465083, -0.34053619, -0.76440114],\n",
       "       [-0.9747627 , -0.07752546, -0.35914195, -0.83307314],\n",
       "       [-0.99354386, -1.30208671, -0.42943154, -0.84402451],\n",
       "       [-1.08624915, -0.88664557, -0.56848824, -1.00045273],\n",
       "       [-1.26361929,  0.24227474, -1.518073  , -1.04364222],\n",
       "       [-1.11815079,  1.23479414, -1.57885964, -1.15682683],\n",
       "       [-1.57987983,  0.12540186, -1.802021  , -1.16363605],\n",
       "       [-1.57300693, -0.17632341,  0.69051075, -1.5468727 ],\n",
       "       [-1.60168764,  0.53342439, -1.81809633, -1.71895978],\n",
       "       [-1.58986943, -2.49524573, -1.81809633, -1.88993703],\n",
       "       [-1.60168764, -0.13406617, -1.43668959, -2.4111379 ]])"
      ]
     },
     "execution_count": 29,
     "metadata": {},
     "output_type": "execute_result"
    }
   ],
   "source": [
    "stand_df2 = stand_model.fit_transform(df3)      # Directly standardization \n",
    "stand_df2"
   ]
  },
  {
   "cell_type": "markdown",
   "id": "2118fc73",
   "metadata": {},
   "source": [
    "# Max Absulate Scaler"
   ]
  },
  {
   "cell_type": "code",
   "execution_count": 30,
   "id": "384dc079",
   "metadata": {},
   "outputs": [],
   "source": [
    "from sklearn.preprocessing import MaxAbsScaler"
   ]
  },
  {
   "cell_type": "code",
   "execution_count": 31,
   "id": "a509fbaa",
   "metadata": {},
   "outputs": [],
   "source": [
    "max_abs_model = MaxAbsScaler()"
   ]
  },
  {
   "cell_type": "code",
   "execution_count": 32,
   "id": "8c98aa73",
   "metadata": {},
   "outputs": [],
   "source": [
    "ma_df = df3.copy()"
   ]
  },
  {
   "cell_type": "code",
   "execution_count": 33,
   "id": "e3882ed2",
   "metadata": {},
   "outputs": [
    {
     "data": {
      "text/html": [
       "<div>\n",
       "<style scoped>\n",
       "    .dataframe tbody tr th:only-of-type {\n",
       "        vertical-align: middle;\n",
       "    }\n",
       "\n",
       "    .dataframe tbody tr th {\n",
       "        vertical-align: top;\n",
       "    }\n",
       "\n",
       "    .dataframe thead th {\n",
       "        text-align: right;\n",
       "    }\n",
       "</style>\n",
       "<table border=\"1\" class=\"dataframe\">\n",
       "  <thead>\n",
       "    <tr style=\"text-align: right;\">\n",
       "      <th></th>\n",
       "      <th>Marketing Spend</th>\n",
       "      <th>Administration</th>\n",
       "      <th>Transport</th>\n",
       "      <th>Profit</th>\n",
       "    </tr>\n",
       "  </thead>\n",
       "  <tbody>\n",
       "    <tr>\n",
       "      <th>0</th>\n",
       "      <td>114523.61</td>\n",
       "      <td>136897.80</td>\n",
       "      <td>471784.10</td>\n",
       "      <td>192261.83</td>\n",
       "    </tr>\n",
       "    <tr>\n",
       "      <th>1</th>\n",
       "      <td>162597.70</td>\n",
       "      <td>151377.59</td>\n",
       "      <td>443898.53</td>\n",
       "      <td>191792.06</td>\n",
       "    </tr>\n",
       "    <tr>\n",
       "      <th>2</th>\n",
       "      <td>153441.51</td>\n",
       "      <td>101145.55</td>\n",
       "      <td>407934.54</td>\n",
       "      <td>191050.39</td>\n",
       "    </tr>\n",
       "    <tr>\n",
       "      <th>3</th>\n",
       "      <td>144372.41</td>\n",
       "      <td>118671.85</td>\n",
       "      <td>383199.62</td>\n",
       "      <td>182901.99</td>\n",
       "    </tr>\n",
       "    <tr>\n",
       "      <th>4</th>\n",
       "      <td>142107.34</td>\n",
       "      <td>91391.77</td>\n",
       "      <td>366168.42</td>\n",
       "      <td>166187.94</td>\n",
       "    </tr>\n",
       "  </tbody>\n",
       "</table>\n",
       "</div>"
      ],
      "text/plain": [
       "   Marketing Spend  Administration  Transport     Profit\n",
       "0        114523.61       136897.80  471784.10  192261.83\n",
       "1        162597.70       151377.59  443898.53  191792.06\n",
       "2        153441.51       101145.55  407934.54  191050.39\n",
       "3        144372.41       118671.85  383199.62  182901.99\n",
       "4        142107.34        91391.77  366168.42  166187.94"
      ]
     },
     "execution_count": 33,
     "metadata": {},
     "output_type": "execute_result"
    }
   ],
   "source": [
    "ma_df.head()"
   ]
  },
  {
   "cell_type": "code",
   "execution_count": 34,
   "id": "a66464d3",
   "metadata": {},
   "outputs": [
    {
     "data": {
      "text/html": [
       "<div>\n",
       "<style scoped>\n",
       "    .dataframe tbody tr th:only-of-type {\n",
       "        vertical-align: middle;\n",
       "    }\n",
       "\n",
       "    .dataframe tbody tr th {\n",
       "        vertical-align: top;\n",
       "    }\n",
       "\n",
       "    .dataframe thead th {\n",
       "        text-align: right;\n",
       "    }\n",
       "</style>\n",
       "<table border=\"1\" class=\"dataframe\">\n",
       "  <thead>\n",
       "    <tr style=\"text-align: right;\">\n",
       "      <th></th>\n",
       "      <th>Marketing Spend</th>\n",
       "      <th>Administration</th>\n",
       "      <th>Transport</th>\n",
       "      <th>Profit</th>\n",
       "    </tr>\n",
       "  </thead>\n",
       "  <tbody>\n",
       "    <tr>\n",
       "      <th>0</th>\n",
       "      <td>114523.61</td>\n",
       "      <td>136897.80</td>\n",
       "      <td>1.000000</td>\n",
       "      <td>192261.83</td>\n",
       "    </tr>\n",
       "    <tr>\n",
       "      <th>1</th>\n",
       "      <td>162597.70</td>\n",
       "      <td>151377.59</td>\n",
       "      <td>0.940893</td>\n",
       "      <td>191792.06</td>\n",
       "    </tr>\n",
       "    <tr>\n",
       "      <th>2</th>\n",
       "      <td>153441.51</td>\n",
       "      <td>101145.55</td>\n",
       "      <td>0.864664</td>\n",
       "      <td>191050.39</td>\n",
       "    </tr>\n",
       "    <tr>\n",
       "      <th>3</th>\n",
       "      <td>144372.41</td>\n",
       "      <td>118671.85</td>\n",
       "      <td>0.812235</td>\n",
       "      <td>182901.99</td>\n",
       "    </tr>\n",
       "    <tr>\n",
       "      <th>4</th>\n",
       "      <td>142107.34</td>\n",
       "      <td>91391.77</td>\n",
       "      <td>0.776136</td>\n",
       "      <td>166187.94</td>\n",
       "    </tr>\n",
       "  </tbody>\n",
       "</table>\n",
       "</div>"
      ],
      "text/plain": [
       "   Marketing Spend  Administration  Transport     Profit\n",
       "0        114523.61       136897.80   1.000000  192261.83\n",
       "1        162597.70       151377.59   0.940893  191792.06\n",
       "2        153441.51       101145.55   0.864664  191050.39\n",
       "3        144372.41       118671.85   0.812235  182901.99\n",
       "4        142107.34        91391.77   0.776136  166187.94"
      ]
     },
     "execution_count": 34,
     "metadata": {},
     "output_type": "execute_result"
    }
   ],
   "source": [
    "ma_df['Transport'] = max_abs_model.fit_transform(ma_df[['Transport']])    # for single column\n",
    "ma_df.head()"
   ]
  },
  {
   "cell_type": "code",
   "execution_count": 35,
   "id": "dac3af78",
   "metadata": {},
   "outputs": [
    {
     "data": {
      "text/plain": [
       "1.0"
      ]
     },
     "execution_count": 35,
     "metadata": {},
     "output_type": "execute_result"
    }
   ],
   "source": [
    "ma_df['Transport'].max()"
   ]
  },
  {
   "cell_type": "code",
   "execution_count": 36,
   "id": "c4e78fb2",
   "metadata": {},
   "outputs": [
    {
     "data": {
      "text/plain": [
       "471784.1"
      ]
     },
     "execution_count": 36,
     "metadata": {},
     "output_type": "execute_result"
    }
   ],
   "source": [
    "df3['Transport'].max()"
   ]
  },
  {
   "cell_type": "code",
   "execution_count": 37,
   "id": "716e5803",
   "metadata": {},
   "outputs": [
    {
     "data": {
      "text/plain": [
       "array([[0.69261666, 0.74952712, 1.        , 1.        ],\n",
       "       [0.98335946, 0.8288052 , 0.94089337, 0.99755661],\n",
       "       [0.92798459, 0.5537805 , 0.8646636 , 0.99369901],\n",
       "       [0.87313643, 0.64973849, 0.81223513, 0.95131722],\n",
       "       [0.85943772, 0.50037773, 0.77613557, 0.86438343],\n",
       "       [0.797566  , 0.54649404, 0.76912588, 0.81654856],\n",
       "       [0.81412828, 0.80592635, 0.27071031, 0.81203071],\n",
       "       [0.7880179 , 0.79678948, 0.68649342, 0.81010672],\n",
       "       [0.72901786, 0.81424892, 0.66049977, 0.79169001],\n",
       "       [0.74590551, 0.59502771, 0.64644319, 0.77893756],\n",
       "       [0.61635061, 0.60551217, 0.48573267, 0.76001539],\n",
       "       [0.60884455, 0.50256141, 0.52936195, 0.75032782],\n",
       "       [0.56766982, 0.69708993, 0.52956308, 0.73642033],\n",
       "       [0.55635219, 0.74184705, 0.53555202, 0.69856482],\n",
       "       [0.72539353, 0.85711046, 0.54370828, 0.68969826],\n",
       "       [1.        , 0.67133764, 0.55486446, 0.67572976],\n",
       "       [0.47180821, 0.66575694, 0.56031151, 0.66052076],\n",
       "       [0.57246821, 0.79431211, 0.59894835, 0.65208143],\n",
       "       [0.55488118, 0.62512218, 0.62511553, 0.64634202],\n",
       "       [0.46116861, 0.62343317, 0.63305328, 0.61621191],\n",
       "       [0.47408436, 0.84192263, 0.63532724, 0.57896578],\n",
       "       [0.4475048 , 0.67224602, 0.64291963, 0.57396858],\n",
       "       [0.40842369, 0.5789959 , 0.64599195, 0.56555162],\n",
       "       [0.46594728, 0.54357379, 0.29796428, 0.56460526],\n",
       "       [0.39107967, 0.76406544, 0.29242745, 0.55863579],\n",
       "       [0.45557444, 0.78915677, 0.28413435, 0.54994556],\n",
       "       [0.43609283, 0.7000693 , 0.74861321, 0.54617347],\n",
       "       [0.39946683, 1.        , 0.25042853, 0.53719649],\n",
       "       [0.39676926, 0.83786356, 0.22709197, 0.52534942],\n",
       "       [0.37493063, 0.63314586, 0.19316302, 0.51979943],\n",
       "       [0.36974101, 0.83605602, 0.18698856, 0.50703543],\n",
       "       [0.38348453, 0.70748837, 0.09768292, 0.50674562],\n",
       "       [0.33561668, 0.56424854, 0.45494286, 0.50337043],\n",
       "       [0.2807759 , 0.86338765, 0.44680961, 0.50302652],\n",
       "       [0.2782839 , 0.46564198, 0.43561799, 0.50181313],\n",
       "       [0.17335288, 0.69564357, 0.42631115, 0.4717951 ],\n",
       "       [0.26652654, 0.28077956, 0.41762624, 0.4678471 ],\n",
       "       [0.12234465, 0.36107053, 0.39269043, 0.42249187],\n",
       "       [0.23319442, 0.45433401, 0.3709309 , 0.42133043],\n",
       "       [0.17390063, 0.64904972, 0.36626005, 0.40694458],\n",
       "       [0.16869099, 0.46379868, 0.34861436, 0.40465042],\n",
       "       [0.14297577, 0.52664642, 0.31370517, 0.37188084],\n",
       "       [0.09377566, 0.69742894, 0.07531871, 0.36283323],\n",
       "       [0.13412668, 0.8475768 , 0.06005866, 0.33912259],\n",
       "       [0.0060492 , 0.67974847, 0.0040356 , 0.33769615],\n",
       "       [0.00795565, 0.63410362, 0.62976785, 0.25741329],\n",
       "       [0.        , 0.74147392, 0.        , 0.22136339],\n",
       "       [0.00327821, 0.28329815, 0.        , 0.18554598],\n",
       "       [0.        , 0.64049627, 0.09574943, 0.07636149]])"
      ]
     },
     "execution_count": 37,
     "metadata": {},
     "output_type": "execute_result"
    }
   ],
   "source": [
    "ma_df = max_abs_model.fit_transform(ma_df)       # for all columns\n",
    "ma_df"
   ]
  },
  {
   "cell_type": "markdown",
   "id": "ce9cc000",
   "metadata": {},
   "source": [
    "# Robust Scaler"
   ]
  },
  {
   "cell_type": "code",
   "execution_count": 38,
   "id": "4be0425c",
   "metadata": {},
   "outputs": [],
   "source": [
    "from sklearn.preprocessing import RobustScaler"
   ]
  },
  {
   "cell_type": "code",
   "execution_count": 39,
   "id": "c00ddd4d",
   "metadata": {},
   "outputs": [],
   "source": [
    "rs_model = RobustScaler()"
   ]
  },
  {
   "cell_type": "code",
   "execution_count": 40,
   "id": "267455ac",
   "metadata": {},
   "outputs": [],
   "source": [
    "rs_data = df3.copy()"
   ]
  },
  {
   "cell_type": "code",
   "execution_count": 41,
   "id": "9062bbb1",
   "metadata": {},
   "outputs": [
    {
     "data": {
      "text/html": [
       "<div>\n",
       "<style scoped>\n",
       "    .dataframe tbody tr th:only-of-type {\n",
       "        vertical-align: middle;\n",
       "    }\n",
       "\n",
       "    .dataframe tbody tr th {\n",
       "        vertical-align: top;\n",
       "    }\n",
       "\n",
       "    .dataframe thead th {\n",
       "        text-align: right;\n",
       "    }\n",
       "</style>\n",
       "<table border=\"1\" class=\"dataframe\">\n",
       "  <thead>\n",
       "    <tr style=\"text-align: right;\">\n",
       "      <th></th>\n",
       "      <th>Marketing Spend</th>\n",
       "      <th>Administration</th>\n",
       "      <th>Transport</th>\n",
       "      <th>Profit</th>\n",
       "    </tr>\n",
       "  </thead>\n",
       "  <tbody>\n",
       "    <tr>\n",
       "      <th>0</th>\n",
       "      <td>114523.61</td>\n",
       "      <td>136897.80</td>\n",
       "      <td>471784.10</td>\n",
       "      <td>192261.83</td>\n",
       "    </tr>\n",
       "    <tr>\n",
       "      <th>1</th>\n",
       "      <td>162597.70</td>\n",
       "      <td>151377.59</td>\n",
       "      <td>443898.53</td>\n",
       "      <td>191792.06</td>\n",
       "    </tr>\n",
       "    <tr>\n",
       "      <th>2</th>\n",
       "      <td>153441.51</td>\n",
       "      <td>101145.55</td>\n",
       "      <td>407934.54</td>\n",
       "      <td>191050.39</td>\n",
       "    </tr>\n",
       "    <tr>\n",
       "      <th>3</th>\n",
       "      <td>144372.41</td>\n",
       "      <td>118671.85</td>\n",
       "      <td>383199.62</td>\n",
       "      <td>182901.99</td>\n",
       "    </tr>\n",
       "    <tr>\n",
       "      <th>4</th>\n",
       "      <td>142107.34</td>\n",
       "      <td>91391.77</td>\n",
       "      <td>366168.42</td>\n",
       "      <td>166187.94</td>\n",
       "    </tr>\n",
       "  </tbody>\n",
       "</table>\n",
       "</div>"
      ],
      "text/plain": [
       "   Marketing Spend  Administration  Transport     Profit\n",
       "0        114523.61       136897.80  471784.10  192261.83\n",
       "1        162597.70       151377.59  443898.53  191792.06\n",
       "2        153441.51       101145.55  407934.54  191050.39\n",
       "3        144372.41       118671.85  383199.62  182901.99\n",
       "4        142107.34        91391.77  366168.42  166187.94"
      ]
     },
     "execution_count": 41,
     "metadata": {},
     "output_type": "execute_result"
    }
   ],
   "source": [
    "rs_data.head()"
   ]
  },
  {
   "cell_type": "code",
   "execution_count": 42,
   "id": "f349adb5",
   "metadata": {},
   "outputs": [
    {
     "data": {
      "text/html": [
       "<div>\n",
       "<style scoped>\n",
       "    .dataframe tbody tr th:only-of-type {\n",
       "        vertical-align: middle;\n",
       "    }\n",
       "\n",
       "    .dataframe tbody tr th {\n",
       "        vertical-align: top;\n",
       "    }\n",
       "\n",
       "    .dataframe thead th {\n",
       "        text-align: right;\n",
       "    }\n",
       "</style>\n",
       "<table border=\"1\" class=\"dataframe\">\n",
       "  <thead>\n",
       "    <tr style=\"text-align: right;\">\n",
       "      <th></th>\n",
       "      <th>Marketing Spend</th>\n",
       "      <th>Administration</th>\n",
       "      <th>Transport</th>\n",
       "      <th>Profit</th>\n",
       "    </tr>\n",
       "  </thead>\n",
       "  <tbody>\n",
       "    <tr>\n",
       "      <th>0</th>\n",
       "      <td>114523.61</td>\n",
       "      <td>0.347651</td>\n",
       "      <td>471784.10</td>\n",
       "      <td>1.643366</td>\n",
       "    </tr>\n",
       "    <tr>\n",
       "      <th>1</th>\n",
       "      <td>162597.70</td>\n",
       "      <td>0.700141</td>\n",
       "      <td>443898.53</td>\n",
       "      <td>1.634269</td>\n",
       "    </tr>\n",
       "    <tr>\n",
       "      <th>2</th>\n",
       "      <td>153441.51</td>\n",
       "      <td>-0.522689</td>\n",
       "      <td>407934.54</td>\n",
       "      <td>1.619905</td>\n",
       "    </tr>\n",
       "    <tr>\n",
       "      <th>3</th>\n",
       "      <td>144372.41</td>\n",
       "      <td>-0.096035</td>\n",
       "      <td>383199.62</td>\n",
       "      <td>1.462102</td>\n",
       "    </tr>\n",
       "    <tr>\n",
       "      <th>4</th>\n",
       "      <td>142107.34</td>\n",
       "      <td>-0.760132</td>\n",
       "      <td>366168.42</td>\n",
       "      <td>1.138414</td>\n",
       "    </tr>\n",
       "  </tbody>\n",
       "</table>\n",
       "</div>"
      ],
      "text/plain": [
       "   Marketing Spend  Administration  Transport    Profit\n",
       "0        114523.61        0.347651  471784.10  1.643366\n",
       "1        162597.70        0.700141  443898.53  1.634269\n",
       "2        153441.51       -0.522689  407934.54  1.619905\n",
       "3        144372.41       -0.096035  383199.62  1.462102\n",
       "4        142107.34       -0.760132  366168.42  1.138414"
      ]
     },
     "execution_count": 42,
     "metadata": {},
     "output_type": "execute_result"
    }
   ],
   "source": [
    "rs_data[['Administration', 'Profit']] = rs_model.fit_transform(rs_data[['Administration', 'Profit']])\n",
    "rs_data.head()"
   ]
  },
  {
   "cell_type": "code",
   "execution_count": 43,
   "id": "4f53bfb2",
   "metadata": {},
   "outputs": [
    {
     "data": {
      "text/plain": [
       "array([[ 0.66950198,  0.34765056,  1.55201644,  1.64336636],\n",
       "       [ 1.42831212,  0.70014136,  1.38371396,  1.63426871],\n",
       "       [ 1.28378916, -0.52268937,  1.16665443,  1.61990538],\n",
       "       [ 1.14064084, -0.09603542,  1.0173676 ,  1.46210191],\n",
       "       [ 1.10488857, -0.76013188,  0.91457633,  1.13841443],\n",
       "       [ 0.94340945, -0.55508686,  0.89461668,  0.96030705],\n",
       "       [ 0.98663538,  0.59841611, -0.52459079,  0.94348539],\n",
       "       [ 0.91848986,  0.55779119,  0.65932587,  0.93632164],\n",
       "       [ 0.76450554,  0.63542039,  0.58531056,  0.86774925],\n",
       "       [ 0.80858066, -0.33929363,  0.54528533,  0.82026703],\n",
       "       [ 0.47045509, -0.29267702,  0.08767206,  0.74981263],\n",
       "       [ 0.45086503, -0.75042267,  0.21190373,  0.71374213],\n",
       "       [ 0.34340301,  0.11450129,  0.21247644,  0.66195926],\n",
       "       [ 0.31386512,  0.313503  ,  0.22952959,  0.52100883],\n",
       "       [ 0.7550464 ,  0.82599385,  0.25275401,  0.48799529],\n",
       "       [ 1.47174229,  0.        ,  0.28452056,  0.43598525],\n",
       "       [ 0.09321364, -0.02481323,  0.30003068,  0.37935638],\n",
       "       [ 0.35592634,  0.54677618,  0.41004671,  0.34793357],\n",
       "       [ 0.31002594, -0.20548589,  0.48455614,  0.32656356],\n",
       "       [ 0.06544532, -0.21299566,  0.50715837,  0.21437773],\n",
       "       [ 0.09915417,  0.75846483,  0.51363334,  0.07569624],\n",
       "       [ 0.02978412,  0.00403885,  0.53525221,  0.05708979],\n",
       "       [-0.07221373, -0.41057522,  0.54400044,  0.02575026],\n",
       "       [ 0.07791719, -0.56807103, -0.4469868 ,  0.02222658],\n",
       "       [-0.11747992,  0.41229169, -0.46275259,  0.        ],\n",
       "       [ 0.05084511,  0.52385421, -0.48636666, -0.03235703],\n",
       "       [ 0.        ,  0.12774837,  0.83620813, -0.04640197],\n",
       "       [-0.09559026,  1.46131759, -0.5823419 , -0.07982666],\n",
       "       [-0.10263064,  0.74041719, -0.64879132, -0.12393781],\n",
       "       [-0.15962732, -0.16981053, -0.74540191, -0.14460251],\n",
       "       [-0.17317172,  0.73238038, -0.76298329, -0.19212772],\n",
       "       [-0.13730249,  0.16073546, -1.01727556, -0.1932068 ],\n",
       "       [-0.26223286, -0.47614579,  0.        , -0.20577391],\n",
       "       [-0.40536192,  0.85390383, -0.02315894, -0.20705441],\n",
       "       [-0.41186579, -0.91457597, -0.05502639, -0.21157234],\n",
       "       [-0.68572543,  0.10807043, -0.08152705, -0.32334083],\n",
       "       [-0.44255134, -1.73652196, -0.10625678, -0.33804074],\n",
       "       [-0.8188519 , -1.37952758, -0.17725996, -0.50691547],\n",
       "       [-0.52954491, -0.96485411, -0.23921887, -0.51123994],\n",
       "       [-0.68429586, -0.09909785, -0.25251881, -0.56480392],\n",
       "       [-0.69789251, -0.92277175, -0.30276385, -0.57334596],\n",
       "       [-0.76500669, -0.6433345 , -0.4021656 , -0.69535955],\n",
       "       [-0.89341416,  0.11600865, -1.08095627, -0.72904723],\n",
       "       [-0.78810195,  0.78360475, -1.12440833, -0.81733092],\n",
       "       [-1.1223716 ,  0.0373967 , -1.28393053, -0.8226421 ],\n",
       "       [-1.11739595, -0.16555209,  0.49780333, -1.12156565],\n",
       "       [-1.13815941,  0.31184398, -1.29542164, -1.25579311],\n",
       "       [-1.12960359, -1.72532364, -1.29542164, -1.38915489],\n",
       "       [-1.13815941, -0.1371287 , -1.02278106, -1.79569017]])"
      ]
     },
     "execution_count": 43,
     "metadata": {},
     "output_type": "execute_result"
    }
   ],
   "source": [
    "rs_data = rs_model.fit_transform(rs_data)\n",
    "rs_data"
   ]
  },
  {
   "cell_type": "code",
   "execution_count": null,
   "id": "c677a291",
   "metadata": {},
   "outputs": [],
   "source": []
  }
 ],
 "metadata": {
  "kernelspec": {
   "display_name": "Python 3 (ipykernel)",
   "language": "python",
   "name": "python3"
  },
  "language_info": {
   "codemirror_mode": {
    "name": "ipython",
    "version": 3
   },
   "file_extension": ".py",
   "mimetype": "text/x-python",
   "name": "python",
   "nbconvert_exporter": "python",
   "pygments_lexer": "ipython3",
   "version": "3.8.12"
  }
 },
 "nbformat": 4,
 "nbformat_minor": 5
}
